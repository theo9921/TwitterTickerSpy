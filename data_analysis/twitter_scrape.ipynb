{
 "cells": [
  {
   "cell_type": "code",
   "execution_count": null,
   "metadata": {},
   "outputs": [],
   "source": [
    "pip install snscrape"
   ]
  },
  {
   "cell_type": "code",
   "execution_count": 11,
   "metadata": {},
   "outputs": [],
   "source": [
    "import pandas as pd\n",
    "import itertools\n",
    "import snscrape.modules.twitter as sntwitter\n",
    "import numpy as np\n",
    "import pandas as pd\n"
   ]
  },
  {
   "cell_type": "code",
   "execution_count": 9,
   "metadata": {},
   "outputs": [],
   "source": [
    "import snscrape.modules.twitter as sntwitter"
   ]
  },
  {
   "cell_type": "code",
   "execution_count": 15,
   "metadata": {},
   "outputs": [],
   "source": [
    "# Getting 100 tweets in english with the hashtag \"stockmarket by user Tickeron\" \n",
    "df = pd.DataFrame(itertools.islice(sntwitter.TwitterSearchScraper('from: MadsC007').get_items(), 100))"
   ]
  },
  {
   "cell_type": "code",
   "execution_count": 20,
   "metadata": {},
   "outputs": [
    {
     "data": {
      "text/html": [
       "<div>\n",
       "<style scoped>\n",
       "    .dataframe tbody tr th:only-of-type {\n",
       "        vertical-align: middle;\n",
       "    }\n",
       "\n",
       "    .dataframe tbody tr th {\n",
       "        vertical-align: top;\n",
       "    }\n",
       "\n",
       "    .dataframe thead th {\n",
       "        text-align: right;\n",
       "    }\n",
       "</style>\n",
       "<table border=\"1\" class=\"dataframe\">\n",
       "  <thead>\n",
       "    <tr style=\"text-align: right;\">\n",
       "      <th></th>\n",
       "      <th>url</th>\n",
       "      <th>date</th>\n",
       "      <th>content</th>\n",
       "      <th>id</th>\n",
       "      <th>username</th>\n",
       "      <th>outlinks</th>\n",
       "      <th>outlinksss</th>\n",
       "      <th>tcooutlinks</th>\n",
       "      <th>tcooutlinksss</th>\n",
       "    </tr>\n",
       "  </thead>\n",
       "  <tbody>\n",
       "    <tr>\n",
       "      <th>0</th>\n",
       "      <td>https://twitter.com/NicolaiThomsenn/status/135...</td>\n",
       "      <td>2021-01-23 19:51:11+00:00</td>\n",
       "      <td>@MadsC007 @JacobWeitze TTCF guidance from Dec....</td>\n",
       "      <td>1353067775615397889</td>\n",
       "      <td>NicolaiThomsenn</td>\n",
       "      <td>[]</td>\n",
       "      <td></td>\n",
       "      <td>[]</td>\n",
       "      <td></td>\n",
       "    </tr>\n",
       "    <tr>\n",
       "      <th>1</th>\n",
       "      <td>https://twitter.com/JacobWeitze/status/1353043...</td>\n",
       "      <td>2021-01-23 18:14:42+00:00</td>\n",
       "      <td>@MadsC007 1\\nI don't dare to give an estimate ...</td>\n",
       "      <td>1353043496937123840</td>\n",
       "      <td>JacobWeitze</td>\n",
       "      <td>[]</td>\n",
       "      <td></td>\n",
       "      <td>[]</td>\n",
       "      <td></td>\n",
       "    </tr>\n",
       "    <tr>\n",
       "      <th>2</th>\n",
       "      <td>https://twitter.com/nielsen_kim10/status/13529...</td>\n",
       "      <td>2021-01-23 13:52:30+00:00</td>\n",
       "      <td>@MadsC007 Very bad intervewier from Georg but ...</td>\n",
       "      <td>1352977511622320128</td>\n",
       "      <td>nielsen_kim10</td>\n",
       "      <td>[]</td>\n",
       "      <td></td>\n",
       "      <td>[]</td>\n",
       "      <td></td>\n",
       "    </tr>\n",
       "    <tr>\n",
       "      <th>3</th>\n",
       "      <td>https://twitter.com/mads_sparholt/status/13527...</td>\n",
       "      <td>2021-01-22 21:42:57+00:00</td>\n",
       "      <td>@mhvestergaard @MadsC007 2. It’s basically jus...</td>\n",
       "      <td>1352733516216348672</td>\n",
       "      <td>mads_sparholt</td>\n",
       "      <td>[]</td>\n",
       "      <td></td>\n",
       "      <td>[]</td>\n",
       "      <td></td>\n",
       "    </tr>\n",
       "    <tr>\n",
       "      <th>4</th>\n",
       "      <td>https://twitter.com/_Sean_________/status/1351...</td>\n",
       "      <td>2021-01-20 19:04:33+00:00</td>\n",
       "      <td>@hhhypergrowth @MadsC007 This helps $SNOW bene...</td>\n",
       "      <td>1351968878889476102</td>\n",
       "      <td>_Sean_________</td>\n",
       "      <td>[]</td>\n",
       "      <td></td>\n",
       "      <td>[]</td>\n",
       "      <td></td>\n",
       "    </tr>\n",
       "    <tr>\n",
       "      <th>...</th>\n",
       "      <td>...</td>\n",
       "      <td>...</td>\n",
       "      <td>...</td>\n",
       "      <td>...</td>\n",
       "      <td>...</td>\n",
       "      <td>...</td>\n",
       "      <td>...</td>\n",
       "      <td>...</td>\n",
       "      <td>...</td>\n",
       "    </tr>\n",
       "    <tr>\n",
       "      <th>95</th>\n",
       "      <td>https://twitter.com/nomadcat/status/1339941508...</td>\n",
       "      <td>2020-12-18 14:32:05+00:00</td>\n",
       "      <td>@SehrLangsam2 @MadsC007 @michaelbkrause \"PE mi...</td>\n",
       "      <td>1339941508968030209</td>\n",
       "      <td>nomadcat</td>\n",
       "      <td>[]</td>\n",
       "      <td></td>\n",
       "      <td>[]</td>\n",
       "      <td></td>\n",
       "    </tr>\n",
       "    <tr>\n",
       "      <th>96</th>\n",
       "      <td>https://twitter.com/SehrLangsam2/status/133993...</td>\n",
       "      <td>2020-12-18 14:25:33+00:00</td>\n",
       "      <td>@nomadcat @MadsC007 @michaelbkrause the 4-5 tr...</td>\n",
       "      <td>1339939866616999936</td>\n",
       "      <td>SehrLangsam2</td>\n",
       "      <td>[]</td>\n",
       "      <td></td>\n",
       "      <td>[]</td>\n",
       "      <td></td>\n",
       "    </tr>\n",
       "    <tr>\n",
       "      <th>97</th>\n",
       "      <td>https://twitter.com/aadhansen/status/133971744...</td>\n",
       "      <td>2020-12-17 23:41:45+00:00</td>\n",
       "      <td>@ProtagorasTO @clueless_1337 @cameroniadeluca ...</td>\n",
       "      <td>1339717449680375809</td>\n",
       "      <td>aadhansen</td>\n",
       "      <td>[]</td>\n",
       "      <td></td>\n",
       "      <td>[]</td>\n",
       "      <td></td>\n",
       "    </tr>\n",
       "    <tr>\n",
       "      <th>98</th>\n",
       "      <td>https://twitter.com/aadhansen/status/133971649...</td>\n",
       "      <td>2020-12-17 23:37:57+00:00</td>\n",
       "      <td>@MadsC007 @clueless_1337 @cameroniadeluca @dha...</td>\n",
       "      <td>1339716492263387139</td>\n",
       "      <td>aadhansen</td>\n",
       "      <td>[]</td>\n",
       "      <td></td>\n",
       "      <td>[]</td>\n",
       "      <td></td>\n",
       "    </tr>\n",
       "    <tr>\n",
       "      <th>99</th>\n",
       "      <td>https://twitter.com/MadsLarsenDK/status/133954...</td>\n",
       "      <td>2020-12-17 12:07:14+00:00</td>\n",
       "      <td>@MadsC007 @MadsDahl2 Wh...What?!?\\nWhat do you...</td>\n",
       "      <td>1339542667324223489</td>\n",
       "      <td>MadsLarsenDK</td>\n",
       "      <td>[]</td>\n",
       "      <td></td>\n",
       "      <td>[]</td>\n",
       "      <td></td>\n",
       "    </tr>\n",
       "  </tbody>\n",
       "</table>\n",
       "<p>100 rows × 9 columns</p>\n",
       "</div>"
      ],
      "text/plain": [
       "                                                  url  \\\n",
       "0   https://twitter.com/NicolaiThomsenn/status/135...   \n",
       "1   https://twitter.com/JacobWeitze/status/1353043...   \n",
       "2   https://twitter.com/nielsen_kim10/status/13529...   \n",
       "3   https://twitter.com/mads_sparholt/status/13527...   \n",
       "4   https://twitter.com/_Sean_________/status/1351...   \n",
       "..                                                ...   \n",
       "95  https://twitter.com/nomadcat/status/1339941508...   \n",
       "96  https://twitter.com/SehrLangsam2/status/133993...   \n",
       "97  https://twitter.com/aadhansen/status/133971744...   \n",
       "98  https://twitter.com/aadhansen/status/133971649...   \n",
       "99  https://twitter.com/MadsLarsenDK/status/133954...   \n",
       "\n",
       "                        date  \\\n",
       "0  2021-01-23 19:51:11+00:00   \n",
       "1  2021-01-23 18:14:42+00:00   \n",
       "2  2021-01-23 13:52:30+00:00   \n",
       "3  2021-01-22 21:42:57+00:00   \n",
       "4  2021-01-20 19:04:33+00:00   \n",
       "..                       ...   \n",
       "95 2020-12-18 14:32:05+00:00   \n",
       "96 2020-12-18 14:25:33+00:00   \n",
       "97 2020-12-17 23:41:45+00:00   \n",
       "98 2020-12-17 23:37:57+00:00   \n",
       "99 2020-12-17 12:07:14+00:00   \n",
       "\n",
       "                                              content                   id  \\\n",
       "0   @MadsC007 @JacobWeitze TTCF guidance from Dec....  1353067775615397889   \n",
       "1   @MadsC007 1\\nI don't dare to give an estimate ...  1353043496937123840   \n",
       "2   @MadsC007 Very bad intervewier from Georg but ...  1352977511622320128   \n",
       "3   @mhvestergaard @MadsC007 2. It’s basically jus...  1352733516216348672   \n",
       "4   @hhhypergrowth @MadsC007 This helps $SNOW bene...  1351968878889476102   \n",
       "..                                                ...                  ...   \n",
       "95  @SehrLangsam2 @MadsC007 @michaelbkrause \"PE mi...  1339941508968030209   \n",
       "96  @nomadcat @MadsC007 @michaelbkrause the 4-5 tr...  1339939866616999936   \n",
       "97  @ProtagorasTO @clueless_1337 @cameroniadeluca ...  1339717449680375809   \n",
       "98  @MadsC007 @clueless_1337 @cameroniadeluca @dha...  1339716492263387139   \n",
       "99  @MadsC007 @MadsDahl2 Wh...What?!?\\nWhat do you...  1339542667324223489   \n",
       "\n",
       "           username outlinks outlinksss tcooutlinks tcooutlinksss  \n",
       "0   NicolaiThomsenn       []                     []                \n",
       "1       JacobWeitze       []                     []                \n",
       "2     nielsen_kim10       []                     []                \n",
       "3     mads_sparholt       []                     []                \n",
       "4    _Sean_________       []                     []                \n",
       "..              ...      ...        ...         ...           ...  \n",
       "95         nomadcat       []                     []                \n",
       "96     SehrLangsam2       []                     []                \n",
       "97        aadhansen       []                     []                \n",
       "98        aadhansen       []                     []                \n",
       "99     MadsLarsenDK       []                     []                \n",
       "\n",
       "[100 rows x 9 columns]"
      ]
     },
     "execution_count": 20,
     "metadata": {},
     "output_type": "execute_result"
    }
   ],
   "source": [
    "df"
   ]
  },
  {
   "cell_type": "code",
   "execution_count": 23,
   "metadata": {},
   "outputs": [],
   "source": [
    "test= df['content'][0]"
   ]
  },
  {
   "cell_type": "code",
   "execution_count": 119,
   "metadata": {},
   "outputs": [
    {
     "data": {
      "text/plain": [
       "'@MadsC007 @JacobWeitze TTCF guidance from Dec. 2020 https://t.co/TRESkdfuQF'"
      ]
     },
     "execution_count": 119,
     "metadata": {},
     "output_type": "execute_result"
    }
   ],
   "source": [
    "test"
   ]
  },
  {
   "cell_type": "code",
   "execution_count": 120,
   "metadata": {},
   "outputs": [],
   "source": [
    "#Should only return a potential ticker if there's 2, 3, or 4 capital letters followed \n",
    "# by a comma, full-stop or space, but not preceeded by a capital letter.\n",
    "potential_ticker = []\n",
    "stoppers = ['.', ',', ' ']\n",
    "for i in range(len(test)-2):\n",
    "    if test[i].isupper():\n",
    "        if test[i+1].isupper():\n",
    "            if test[i+2] in stoppers:\n",
    "                if not test[i-1].isupper():\n",
    "                    potential_ticker.append(test[i]+test[i+1])\n",
    "            if test[i+2].isupper():\n",
    "                if test[i+3] in stoppers:\n",
    "                    if not test[i-1].isupper():\n",
    "                        potential_ticker.append(test[i]+test[i+1]+test[i+2])\n",
    "                if test[i+3].isupper():\n",
    "                    if test[i+4] in stoppers:\n",
    "                        if not test[i-1].isupper():\n",
    "                            potential_ticker.append(test[i]+test[i+1]+test[i+2]+test[i+3])"
   ]
  },
  {
   "cell_type": "code",
   "execution_count": 121,
   "metadata": {
    "scrolled": true
   },
   "outputs": [
    {
     "data": {
      "text/plain": [
       "['TTCF']"
      ]
     },
     "execution_count": 121,
     "metadata": {},
     "output_type": "execute_result"
    }
   ],
   "source": [
    "potential_ticker"
   ]
  },
  {
   "cell_type": "code",
   "execution_count": 63,
   "metadata": {},
   "outputs": [],
   "source": [
    "df = pd.read_csv('esg_scores.csv', delimiter=',')\n",
    "weighted_esg = []\n",
    "weight_sum = 0\n",
    "\n",
    "#Compute sum of weights of all tickers with ESG data\n",
    "for i in range(0, len(df)):\n",
    "    if not np.isnan(df['2'][i]):\n",
    "        weight_sum += df['1'][i]\n",
    "\n",
    "#Compute weighted average of ESG data\n",
    "for i in range(0, len(df)):\n",
    "    if not np.isnan(df['2'][i]):\n",
    "        weighted_esg.append(df['1'][i] / weight_sum * df['2'][i])\n",
    "    else:\n",
    "        weighted_esg.append(None)\n",
    "\n",
    "#Append weighted average ESG as new column and sort by decreasing sustainability (ascending weighted risk score)\n",
    "df['c3'] = weighted_esg\n",
    "sorted_df = df.sort_values(by=['2'],ascending=True)\n",
    "sorted_df2 = df.sort_values(by=['2'],ascending=False)\n",
    "\n",
    "#Export to csv file\n",
    "sorted_df.to_csv('decr_sustainability.csv', index=False)\n",
    "sorted_df2.to_csv('incr_sustainability.csv', index=False)"
   ]
  },
  {
   "cell_type": "code",
   "execution_count": 65,
   "metadata": {},
   "outputs": [],
   "source": [
    "decr_sus_rank = pd.read_csv('decr_sustainability.csv')"
   ]
  },
  {
   "cell_type": "code",
   "execution_count": 68,
   "metadata": {},
   "outputs": [
    {
     "data": {
      "text/html": [
       "<div>\n",
       "<style scoped>\n",
       "    .dataframe tbody tr th:only-of-type {\n",
       "        vertical-align: middle;\n",
       "    }\n",
       "\n",
       "    .dataframe tbody tr th {\n",
       "        vertical-align: top;\n",
       "    }\n",
       "\n",
       "    .dataframe thead th {\n",
       "        text-align: right;\n",
       "    }\n",
       "</style>\n",
       "<table border=\"1\" class=\"dataframe\">\n",
       "  <thead>\n",
       "    <tr style=\"text-align: right;\">\n",
       "      <th></th>\n",
       "      <th>0</th>\n",
       "      <th>1</th>\n",
       "      <th>2</th>\n",
       "      <th>c3</th>\n",
       "    </tr>\n",
       "  </thead>\n",
       "  <tbody>\n",
       "    <tr>\n",
       "      <th>0</th>\n",
       "      <td>CBRE</td>\n",
       "      <td>0.074289</td>\n",
       "      <td>7.0</td>\n",
       "      <td>0.005507</td>\n",
       "    </tr>\n",
       "    <tr>\n",
       "      <th>1</th>\n",
       "      <td>TEL</td>\n",
       "      <td>0.121667</td>\n",
       "      <td>9.0</td>\n",
       "      <td>0.011595</td>\n",
       "    </tr>\n",
       "    <tr>\n",
       "      <th>2</th>\n",
       "      <td>PLD</td>\n",
       "      <td>0.214671</td>\n",
       "      <td>10.0</td>\n",
       "      <td>0.022732</td>\n",
       "    </tr>\n",
       "    <tr>\n",
       "      <th>3</th>\n",
       "      <td>PEAK</td>\n",
       "      <td>0.065042</td>\n",
       "      <td>10.0</td>\n",
       "      <td>0.006887</td>\n",
       "    </tr>\n",
       "    <tr>\n",
       "      <th>4</th>\n",
       "      <td>KEYS</td>\n",
       "      <td>0.070226</td>\n",
       "      <td>10.0</td>\n",
       "      <td>0.007436</td>\n",
       "    </tr>\n",
       "    <tr>\n",
       "      <th>...</th>\n",
       "      <td>...</td>\n",
       "      <td>...</td>\n",
       "      <td>...</td>\n",
       "      <td>...</td>\n",
       "    </tr>\n",
       "    <tr>\n",
       "      <th>500</th>\n",
       "      <td>FLIR</td>\n",
       "      <td>0.026520</td>\n",
       "      <td>NaN</td>\n",
       "      <td>NaN</td>\n",
       "    </tr>\n",
       "    <tr>\n",
       "      <th>501</th>\n",
       "      <td>FOX</td>\n",
       "      <td>0.022215</td>\n",
       "      <td>NaN</td>\n",
       "      <td>NaN</td>\n",
       "    </tr>\n",
       "    <tr>\n",
       "      <th>502</th>\n",
       "      <td>HRB</td>\n",
       "      <td>0.018133</td>\n",
       "      <td>NaN</td>\n",
       "      <td>NaN</td>\n",
       "    </tr>\n",
       "    <tr>\n",
       "      <th>503</th>\n",
       "      <td>UA</td>\n",
       "      <td>0.013380</td>\n",
       "      <td>NaN</td>\n",
       "      <td>NaN</td>\n",
       "    </tr>\n",
       "    <tr>\n",
       "      <th>504</th>\n",
       "      <td>NWS</td>\n",
       "      <td>0.006826</td>\n",
       "      <td>NaN</td>\n",
       "      <td>NaN</td>\n",
       "    </tr>\n",
       "  </tbody>\n",
       "</table>\n",
       "<p>505 rows × 4 columns</p>\n",
       "</div>"
      ],
      "text/plain": [
       "        0         1     2        c3\n",
       "0    CBRE  0.074289   7.0  0.005507\n",
       "1     TEL  0.121667   9.0  0.011595\n",
       "2     PLD  0.214671  10.0  0.022732\n",
       "3    PEAK  0.065042  10.0  0.006887\n",
       "4    KEYS  0.070226  10.0  0.007436\n",
       "..    ...       ...   ...       ...\n",
       "500  FLIR  0.026520   NaN       NaN\n",
       "501   FOX  0.022215   NaN       NaN\n",
       "502   HRB  0.018133   NaN       NaN\n",
       "503    UA  0.013380   NaN       NaN\n",
       "504   NWS  0.006826   NaN       NaN\n",
       "\n",
       "[505 rows x 4 columns]"
      ]
     },
     "execution_count": 68,
     "metadata": {},
     "output_type": "execute_result"
    }
   ],
   "source": [
    "decr_sus_rank"
   ]
  },
  {
   "cell_type": "markdown",
   "metadata": {},
   "source": [
    "First we must find out if the ticker is in the list"
   ]
  },
  {
   "cell_type": "code",
   "execution_count": 117,
   "metadata": {},
   "outputs": [],
   "source": [
    "tickers = []\n",
    "for ticker in range(len(decr_sus_rank['0'])):\n",
    "    for j in range(len(potential_ticker)):\n",
    "        if potential_ticker[j] == decr_sus_rank['0'][ticker]:\n",
    "            tickers.append(potential_ticker[j])"
   ]
  },
  {
   "cell_type": "code",
   "execution_count": 118,
   "metadata": {},
   "outputs": [
    {
     "data": {
      "text/plain": [
       "[]"
      ]
     },
     "execution_count": 118,
     "metadata": {},
     "output_type": "execute_result"
    }
   ],
   "source": [
    "tickers"
   ]
  },
  {
   "cell_type": "code",
   "execution_count": 76,
   "metadata": {},
   "outputs": [
    {
     "data": {
      "text/plain": [
       "0      CBRE\n",
       "1       TEL\n",
       "2       PLD\n",
       "3      PEAK\n",
       "4      KEYS\n",
       "       ... \n",
       "500    FLIR\n",
       "501     FOX\n",
       "502     HRB\n",
       "503      UA\n",
       "504     NWS\n",
       "Name: 0, Length: 505, dtype: object"
      ]
     },
     "execution_count": 76,
     "metadata": {},
     "output_type": "execute_result"
    }
   ],
   "source": [
    "decr_sus_rank['0']"
   ]
  },
  {
   "cell_type": "code",
   "execution_count": null,
   "metadata": {},
   "outputs": [],
   "source": []
  }
 ],
 "metadata": {
  "kernelspec": {
   "display_name": "hex2021",
   "language": "python",
   "name": "hex2021"
  },
  "language_info": {
   "codemirror_mode": {
    "name": "ipython",
    "version": 3
   },
   "file_extension": ".py",
   "mimetype": "text/x-python",
   "name": "python",
   "nbconvert_exporter": "python",
   "pygments_lexer": "ipython3",
   "version": "3.7.4"
  }
 },
 "nbformat": 4,
 "nbformat_minor": 4
}
