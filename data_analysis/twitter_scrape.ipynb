{
 "cells": [
  {
   "cell_type": "code",
   "execution_count": 1,
   "metadata": {
    "scrolled": true
   },
   "outputs": [
    {
     "name": "stdout",
     "output_type": "stream",
     "text": [
      "Requirement already satisfied: snscrape in /Users/dsw46/opt/anaconda3/lib/python3.7/site-packages (0.3.4)\n",
      "Requirement already satisfied: requests[socks] in /Users/dsw46/opt/anaconda3/lib/python3.7/site-packages (from snscrape) (2.24.0)\n",
      "Requirement already satisfied: beautifulsoup4 in /Users/dsw46/opt/anaconda3/lib/python3.7/site-packages (from snscrape) (4.9.1)\n",
      "Requirement already satisfied: lxml in /Users/dsw46/opt/anaconda3/lib/python3.7/site-packages (from snscrape) (4.5.2)\n",
      "Requirement already satisfied: urllib3!=1.25.0,!=1.25.1,<1.26,>=1.21.1 in /Users/dsw46/opt/anaconda3/lib/python3.7/site-packages (from requests[socks]->snscrape) (1.25.10)\n",
      "Requirement already satisfied: certifi>=2017.4.17 in /Users/dsw46/opt/anaconda3/lib/python3.7/site-packages (from requests[socks]->snscrape) (2020.12.5)\n",
      "Requirement already satisfied: idna<3,>=2.5 in /Users/dsw46/opt/anaconda3/lib/python3.7/site-packages (from requests[socks]->snscrape) (2.10)\n",
      "Requirement already satisfied: chardet<4,>=3.0.2 in /Users/dsw46/opt/anaconda3/lib/python3.7/site-packages (from requests[socks]->snscrape) (3.0.4)\n",
      "Requirement already satisfied: PySocks!=1.5.7,>=1.5.6; extra == \"socks\" in /Users/dsw46/opt/anaconda3/lib/python3.7/site-packages (from requests[socks]->snscrape) (1.7.1)\n",
      "Requirement already satisfied: soupsieve>1.2 in /Users/dsw46/opt/anaconda3/lib/python3.7/site-packages (from beautifulsoup4->snscrape) (2.0.1)\n",
      "Note: you may need to restart the kernel to use updated packages.\n"
     ]
    }
   ],
   "source": [
    "pip install snscrape"
   ]
  },
  {
   "cell_type": "code",
   "execution_count": null,
   "metadata": {},
   "outputs": [],
   "source": []
  },
  {
   "cell_type": "code",
   "execution_count": 1,
   "metadata": {},
   "outputs": [],
   "source": [
    "import pandas as pd\n",
    "import itertools\n",
    "import snscrape.modules.twitter as sntwitter\n",
    "import numpy as np\n",
    "import pandas as pd\n",
    "\n",
    "import requests\n",
    "from bs4 import BeautifulSoup\n",
    "import re"
   ]
  },
  {
   "cell_type": "code",
   "execution_count": 2,
   "metadata": {},
   "outputs": [],
   "source": [
    "df = pd.DataFrame(itertools.islice(sntwitter.TwitterSearchScraper('from: MadsC007').get_items(), 100))"
   ]
  },
  {
   "cell_type": "code",
   "execution_count": 3,
   "metadata": {},
   "outputs": [],
   "source": [
    "a = 'MadsC007'"
   ]
  },
  {
   "cell_type": "code",
   "execution_count": 4,
   "metadata": {},
   "outputs": [],
   "source": [
    "df = pd.DataFrame(itertools.islice(sntwitter.TwitterSearchScraper('from: '+a).get_items(),1000))"
   ]
  },
  {
   "cell_type": "code",
   "execution_count": null,
   "metadata": {},
   "outputs": [],
   "source": []
  },
  {
   "cell_type": "code",
   "execution_count": 5,
   "metadata": {},
   "outputs": [
    {
     "data": {
      "text/html": [
       "<div>\n",
       "<style scoped>\n",
       "    .dataframe tbody tr th:only-of-type {\n",
       "        vertical-align: middle;\n",
       "    }\n",
       "\n",
       "    .dataframe tbody tr th {\n",
       "        vertical-align: top;\n",
       "    }\n",
       "\n",
       "    .dataframe thead th {\n",
       "        text-align: right;\n",
       "    }\n",
       "</style>\n",
       "<table border=\"1\" class=\"dataframe\">\n",
       "  <thead>\n",
       "    <tr style=\"text-align: right;\">\n",
       "      <th></th>\n",
       "      <th>url</th>\n",
       "      <th>date</th>\n",
       "      <th>content</th>\n",
       "      <th>id</th>\n",
       "      <th>username</th>\n",
       "      <th>outlinks</th>\n",
       "      <th>outlinksss</th>\n",
       "      <th>tcooutlinks</th>\n",
       "      <th>tcooutlinksss</th>\n",
       "    </tr>\n",
       "  </thead>\n",
       "  <tbody>\n",
       "    <tr>\n",
       "      <th>0</th>\n",
       "      <td>https://twitter.com/MadsC007/status/1353284018...</td>\n",
       "      <td>2021-01-24 10:10:27+00:00</td>\n",
       "      <td>@aadhansen @NicolaiThomsenn @mhvestergaard @In...</td>\n",
       "      <td>1353284018830192641</td>\n",
       "      <td>MadsC007</td>\n",
       "      <td>[]</td>\n",
       "      <td></td>\n",
       "      <td>[]</td>\n",
       "      <td></td>\n",
       "    </tr>\n",
       "    <tr>\n",
       "      <th>1</th>\n",
       "      <td>https://twitter.com/StevanPopo/status/13532498...</td>\n",
       "      <td>2021-01-24 07:54:43+00:00</td>\n",
       "      <td>@mhvestergaard I know, I got that one from you...</td>\n",
       "      <td>1353249858694615041</td>\n",
       "      <td>StevanPopo</td>\n",
       "      <td>[]</td>\n",
       "      <td></td>\n",
       "      <td>[]</td>\n",
       "      <td></td>\n",
       "    </tr>\n",
       "    <tr>\n",
       "      <th>2</th>\n",
       "      <td>https://twitter.com/MadsC007/status/1353146840...</td>\n",
       "      <td>2021-01-24 01:05:21+00:00</td>\n",
       "      <td>@JiangInvest @mhvestergaard @Innovestor_ The r...</td>\n",
       "      <td>1353146840171032576</td>\n",
       "      <td>MadsC007</td>\n",
       "      <td>[]</td>\n",
       "      <td></td>\n",
       "      <td>[]</td>\n",
       "      <td></td>\n",
       "    </tr>\n",
       "    <tr>\n",
       "      <th>3</th>\n",
       "      <td>https://twitter.com/mhvestergaard/status/13531...</td>\n",
       "      <td>2021-01-23 23:59:04+00:00</td>\n",
       "      <td>@aadhansen @MadsC007 @Innovestor_ What about t...</td>\n",
       "      <td>1353130158555860992</td>\n",
       "      <td>mhvestergaard</td>\n",
       "      <td>[]</td>\n",
       "      <td></td>\n",
       "      <td>[]</td>\n",
       "      <td></td>\n",
       "    </tr>\n",
       "    <tr>\n",
       "      <th>4</th>\n",
       "      <td>https://twitter.com/aadhansen/status/135312516...</td>\n",
       "      <td>2021-01-23 23:39:13+00:00</td>\n",
       "      <td>@MadsC007 @mhvestergaard @Innovestor_ Sorry fo...</td>\n",
       "      <td>1353125162749734912</td>\n",
       "      <td>aadhansen</td>\n",
       "      <td>[]</td>\n",
       "      <td></td>\n",
       "      <td>[]</td>\n",
       "      <td></td>\n",
       "    </tr>\n",
       "    <tr>\n",
       "      <th>...</th>\n",
       "      <td>...</td>\n",
       "      <td>...</td>\n",
       "      <td>...</td>\n",
       "      <td>...</td>\n",
       "      <td>...</td>\n",
       "      <td>...</td>\n",
       "      <td>...</td>\n",
       "      <td>...</td>\n",
       "      <td>...</td>\n",
       "    </tr>\n",
       "    <tr>\n",
       "      <th>984</th>\n",
       "      <td>https://twitter.com/Sqwii/status/1009790534225...</td>\n",
       "      <td>2018-06-21 13:29:59+00:00</td>\n",
       "      <td>@MadsC007 Lets see what is coming up next year...</td>\n",
       "      <td>1009790534225924096</td>\n",
       "      <td>Sqwii</td>\n",
       "      <td>[]</td>\n",
       "      <td></td>\n",
       "      <td>[]</td>\n",
       "      <td></td>\n",
       "    </tr>\n",
       "    <tr>\n",
       "      <th>985</th>\n",
       "      <td>https://twitter.com/Sqwii/status/1009790090779...</td>\n",
       "      <td>2018-06-21 13:28:13+00:00</td>\n",
       "      <td>@MadsC007 Yes , thats the way of human psychol...</td>\n",
       "      <td>1009790090779004928</td>\n",
       "      <td>Sqwii</td>\n",
       "      <td>[]</td>\n",
       "      <td></td>\n",
       "      <td>[]</td>\n",
       "      <td></td>\n",
       "    </tr>\n",
       "    <tr>\n",
       "      <th>986</th>\n",
       "      <td>https://twitter.com/Sqwii/status/1009783368089...</td>\n",
       "      <td>2018-06-21 13:01:30+00:00</td>\n",
       "      <td>@MadsC007 $NTES looks bottomed over next 3-6 m...</td>\n",
       "      <td>1009783368089849857</td>\n",
       "      <td>Sqwii</td>\n",
       "      <td>[]</td>\n",
       "      <td></td>\n",
       "      <td>[]</td>\n",
       "      <td></td>\n",
       "    </tr>\n",
       "    <tr>\n",
       "      <th>987</th>\n",
       "      <td>https://twitter.com/MadsC007/status/1004642725...</td>\n",
       "      <td>2018-06-07 08:34:25+00:00</td>\n",
       "      <td>#CYOU #changyou \\nTLBB’s Weekly revenes had ju...</td>\n",
       "      <td>1004642725474521088</td>\n",
       "      <td>MadsC007</td>\n",
       "      <td>[]</td>\n",
       "      <td></td>\n",
       "      <td>[]</td>\n",
       "      <td></td>\n",
       "    </tr>\n",
       "    <tr>\n",
       "      <th>988</th>\n",
       "      <td>https://twitter.com/MadsC007/status/9330602824...</td>\n",
       "      <td>2017-11-21 19:51:21+00:00</td>\n",
       "      <td>Her is Sensor Towers Q3 report with stats for ...</td>\n",
       "      <td>933060282422788096</td>\n",
       "      <td>MadsC007</td>\n",
       "      <td>[https://s3.amazonaws.com/sensortower-itunes/Q...</td>\n",
       "      <td>https://s3.amazonaws.com/sensortower-itunes/Qu...</td>\n",
       "      <td>[https://t.co/kcmVEjzR1E]</td>\n",
       "      <td>https://t.co/kcmVEjzR1E</td>\n",
       "    </tr>\n",
       "  </tbody>\n",
       "</table>\n",
       "<p>989 rows × 9 columns</p>\n",
       "</div>"
      ],
      "text/plain": [
       "                                                   url  \\\n",
       "0    https://twitter.com/MadsC007/status/1353284018...   \n",
       "1    https://twitter.com/StevanPopo/status/13532498...   \n",
       "2    https://twitter.com/MadsC007/status/1353146840...   \n",
       "3    https://twitter.com/mhvestergaard/status/13531...   \n",
       "4    https://twitter.com/aadhansen/status/135312516...   \n",
       "..                                                 ...   \n",
       "984  https://twitter.com/Sqwii/status/1009790534225...   \n",
       "985  https://twitter.com/Sqwii/status/1009790090779...   \n",
       "986  https://twitter.com/Sqwii/status/1009783368089...   \n",
       "987  https://twitter.com/MadsC007/status/1004642725...   \n",
       "988  https://twitter.com/MadsC007/status/9330602824...   \n",
       "\n",
       "                         date  \\\n",
       "0   2021-01-24 10:10:27+00:00   \n",
       "1   2021-01-24 07:54:43+00:00   \n",
       "2   2021-01-24 01:05:21+00:00   \n",
       "3   2021-01-23 23:59:04+00:00   \n",
       "4   2021-01-23 23:39:13+00:00   \n",
       "..                        ...   \n",
       "984 2018-06-21 13:29:59+00:00   \n",
       "985 2018-06-21 13:28:13+00:00   \n",
       "986 2018-06-21 13:01:30+00:00   \n",
       "987 2018-06-07 08:34:25+00:00   \n",
       "988 2017-11-21 19:51:21+00:00   \n",
       "\n",
       "                                               content                   id  \\\n",
       "0    @aadhansen @NicolaiThomsenn @mhvestergaard @In...  1353284018830192641   \n",
       "1    @mhvestergaard I know, I got that one from you...  1353249858694615041   \n",
       "2    @JiangInvest @mhvestergaard @Innovestor_ The r...  1353146840171032576   \n",
       "3    @aadhansen @MadsC007 @Innovestor_ What about t...  1353130158555860992   \n",
       "4    @MadsC007 @mhvestergaard @Innovestor_ Sorry fo...  1353125162749734912   \n",
       "..                                                 ...                  ...   \n",
       "984  @MadsC007 Lets see what is coming up next year...  1009790534225924096   \n",
       "985  @MadsC007 Yes , thats the way of human psychol...  1009790090779004928   \n",
       "986  @MadsC007 $NTES looks bottomed over next 3-6 m...  1009783368089849857   \n",
       "987  #CYOU #changyou \\nTLBB’s Weekly revenes had ju...  1004642725474521088   \n",
       "988  Her is Sensor Towers Q3 report with stats for ...   933060282422788096   \n",
       "\n",
       "          username                                           outlinks  \\\n",
       "0         MadsC007                                                 []   \n",
       "1       StevanPopo                                                 []   \n",
       "2         MadsC007                                                 []   \n",
       "3    mhvestergaard                                                 []   \n",
       "4        aadhansen                                                 []   \n",
       "..             ...                                                ...   \n",
       "984          Sqwii                                                 []   \n",
       "985          Sqwii                                                 []   \n",
       "986          Sqwii                                                 []   \n",
       "987       MadsC007                                                 []   \n",
       "988       MadsC007  [https://s3.amazonaws.com/sensortower-itunes/Q...   \n",
       "\n",
       "                                            outlinksss  \\\n",
       "0                                                        \n",
       "1                                                        \n",
       "2                                                        \n",
       "3                                                        \n",
       "4                                                        \n",
       "..                                                 ...   \n",
       "984                                                      \n",
       "985                                                      \n",
       "986                                                      \n",
       "987                                                      \n",
       "988  https://s3.amazonaws.com/sensortower-itunes/Qu...   \n",
       "\n",
       "                   tcooutlinks            tcooutlinksss  \n",
       "0                           []                           \n",
       "1                           []                           \n",
       "2                           []                           \n",
       "3                           []                           \n",
       "4                           []                           \n",
       "..                         ...                      ...  \n",
       "984                         []                           \n",
       "985                         []                           \n",
       "986                         []                           \n",
       "987                         []                           \n",
       "988  [https://t.co/kcmVEjzR1E]  https://t.co/kcmVEjzR1E  \n",
       "\n",
       "[989 rows x 9 columns]"
      ]
     },
     "execution_count": 5,
     "metadata": {},
     "output_type": "execute_result"
    }
   ],
   "source": [
    "df"
   ]
  },
  {
   "cell_type": "code",
   "execution_count": null,
   "metadata": {},
   "outputs": [],
   "source": []
  },
  {
   "cell_type": "code",
   "execution_count": 91,
   "metadata": {},
   "outputs": [],
   "source": [
    "test= df['content'][14]"
   ]
  },
  {
   "cell_type": "code",
   "execution_count": 92,
   "metadata": {},
   "outputs": [
    {
     "data": {
      "text/plain": [
       "'This illustrates the power of being an aggretor of demand and suply: \\n\\nShopee is making a fintech company like $APT.AX, Klarna and $AFRM without feeling the need to make updates to the market. $PYPL from EBay and MercadoPago on $MELI platform are simular examples https://t.co/xZDWztRF2x'"
      ]
     },
     "execution_count": 92,
     "metadata": {},
     "output_type": "execute_result"
    }
   ],
   "source": [
    "test"
   ]
  },
  {
   "cell_type": "code",
   "execution_count": 26,
   "metadata": {},
   "outputs": [
    {
     "ename": "NameError",
     "evalue": "name 'test' is not defined",
     "output_type": "error",
     "traceback": [
      "\u001b[0;31m---------------------------------------------------------------------------\u001b[0m",
      "\u001b[0;31mNameError\u001b[0m                                 Traceback (most recent call last)",
      "\u001b[0;32m<ipython-input-26-6e538784264a>\u001b[0m in \u001b[0;36m<module>\u001b[0;34m\u001b[0m\n\u001b[1;32m      2\u001b[0m \u001b[0;31m# a '$' and not followed by a capital letter.\u001b[0m\u001b[0;34m\u001b[0m\u001b[0;34m\u001b[0m\u001b[0;34m\u001b[0m\u001b[0m\n\u001b[1;32m      3\u001b[0m \u001b[0mpotential_ticker\u001b[0m \u001b[0;34m=\u001b[0m \u001b[0;34m[\u001b[0m\u001b[0;34m]\u001b[0m\u001b[0;34m\u001b[0m\u001b[0;34m\u001b[0m\u001b[0m\n\u001b[0;32m----> 4\u001b[0;31m \u001b[0;32mfor\u001b[0m \u001b[0mi\u001b[0m \u001b[0;32min\u001b[0m \u001b[0mrange\u001b[0m\u001b[0;34m(\u001b[0m\u001b[0mlen\u001b[0m\u001b[0;34m(\u001b[0m\u001b[0mtest\u001b[0m\u001b[0;34m)\u001b[0m\u001b[0;34m-\u001b[0m\u001b[0;36m3\u001b[0m\u001b[0;34m)\u001b[0m\u001b[0;34m:\u001b[0m\u001b[0;34m\u001b[0m\u001b[0;34m\u001b[0m\u001b[0m\n\u001b[0m\u001b[1;32m      5\u001b[0m     \u001b[0;32mif\u001b[0m \u001b[0mtest\u001b[0m\u001b[0;34m[\u001b[0m\u001b[0mi\u001b[0m\u001b[0;34m]\u001b[0m \u001b[0;34m==\u001b[0m \u001b[0;34m'$'\u001b[0m\u001b[0;34m:\u001b[0m\u001b[0;34m\u001b[0m\u001b[0;34m\u001b[0m\u001b[0m\n\u001b[1;32m      6\u001b[0m         \u001b[0;32mif\u001b[0m \u001b[0mtest\u001b[0m\u001b[0;34m[\u001b[0m\u001b[0mi\u001b[0m\u001b[0;34m+\u001b[0m\u001b[0;36m1\u001b[0m\u001b[0;34m]\u001b[0m\u001b[0;34m.\u001b[0m\u001b[0misalpha\u001b[0m\u001b[0;34m(\u001b[0m\u001b[0;34m)\u001b[0m\u001b[0;34m:\u001b[0m\u001b[0;34m\u001b[0m\u001b[0;34m\u001b[0m\u001b[0m\n",
      "\u001b[0;31mNameError\u001b[0m: name 'test' is not defined"
     ]
    }
   ],
   "source": [
    "#Should only return a potential ticker if there's 2, 3, or 4 capital letters preceeded by\n",
    "# a '$' and not followed by a capital letter.\n",
    "potential_ticker = []\n",
    "for i in range(len(test)-3):\n",
    "    if test[i] == '$':\n",
    "        if test[i+1].isalpha():\n",
    "            if test[i+2].isalpha():\n",
    "                if not test[i+3].isalpha():\n",
    "                    potential_ticker.append(test[i+1]+test[i+2])\n",
    "                if test[i+3].isalpha():\n",
    "                    if not test[i+4].isalpha():\n",
    "                        potential_ticker.append(test[i+1]+test[i+2]+test[i+3])\n",
    "                    if test[i+4].isalpha():\n",
    "                            potential_ticker.append(test[i+1]+test[i+2]+test[i+3]+test[i+4])"
   ]
  },
  {
   "cell_type": "code",
   "execution_count": 60,
   "metadata": {
    "scrolled": false
   },
   "outputs": [
    {
     "data": {
      "text/plain": [
       "['APT', 'AFRM', 'PYPL', 'MELI']"
      ]
     },
     "execution_count": 60,
     "metadata": {},
     "output_type": "execute_result"
    }
   ],
   "source": [
    "potential_ticker"
   ]
  },
  {
   "cell_type": "code",
   "execution_count": 47,
   "metadata": {},
   "outputs": [],
   "source": []
  },
  {
   "cell_type": "code",
   "execution_count": 48,
   "metadata": {},
   "outputs": [
    {
     "data": {
      "text/plain": [
       "31"
      ]
     },
     "execution_count": 48,
     "metadata": {},
     "output_type": "execute_result"
    }
   ],
   "source": [
    "ticker_ESG('TSLA')"
   ]
  },
  {
   "cell_type": "markdown",
   "metadata": {},
   "source": [
    "# Building an all-cointaining function which takes a twitter handle as input and outputs info about the companies this person mostly tweets about"
   ]
  },
  {
   "cell_type": "markdown",
   "metadata": {},
   "source": [
    "Dependent functions:"
   ]
  },
  {
   "cell_type": "code",
   "execution_count": 110,
   "metadata": {},
   "outputs": [],
   "source": [
    "def tickers_in_tweet(tweet):\n",
    "    \"\"\" Input: A single tweet as a string\n",
    "        \n",
    "        Output: A list of all the tickers mentioned\n",
    "        \n",
    "        Will return a ticker if there's 2, 3, or 4 capital \n",
    "        letters preceeded by a '$' and not followed by a capital letter.      \n",
    "        \n",
    "    \"\"\"\n",
    "\n",
    "\n",
    "    tickers = []\n",
    "    for i in range(len(tweet)-4):\n",
    "        if tweet[i] == '$':\n",
    "            if tweet[i+1].isalpha():\n",
    "                if tweet[i+2].isalpha():\n",
    "                    if not tweet[i+3].isalpha():\n",
    "                        tickers.append(tweet[i+1]+tweet[i+2])\n",
    "                    if tweet[i+3].isalpha():\n",
    "                        if not tweet[i+4].isalpha():\n",
    "                            tickers.append(tweet[i+1]+tweet[i+2]+tweet[i+3])\n",
    "                        if tweet[i+4].isalpha():\n",
    "                                tickers.append(tweet[i+1]+tweet[i+2]+tweet[i+3]+tweet[i+4])\n",
    "    return tickers\n",
    "\n",
    "#Web scraping for ESG\n",
    "\n",
    "def ticker_ESG(ticker):\n",
    "    \"\"\"This function accepts a ticker input and outputs its Total ESG Risk Score\"\"\"\n",
    "    #Generate URL\n",
    "    working_url = 'https://uk.finance.yahoo.com/quote/'+str(ticker).upper()+'/sustainability?p='+str(ticker).upper()\n",
    "    total_ESG = scrape_yahoo(working_url)\n",
    "    return total_ESG\n",
    "\n",
    "def scrape_yahoo(url):\n",
    "    \"\"\"This function checks and accepts a Yahoo finance URL and outputs the Total ESG Risk Score as an int \"\"\"\n",
    "\n",
    "    #GET page and convert content to bs4 soup\n",
    "    page = requests.get(url)\n",
    "    soup = BeautifulSoup(page.content, 'html.parser')\n",
    "\n",
    "\n",
    "    #Find class containing ESG risk score from 0-100, cast to string\n",
    "    total_ESG = str(soup.findAll('div', {\"class\": \"Fz(36px) Fw(600) D(ib) Mend(5px)\"}))\n",
    "\n",
    "    #Extract ESG score using regex, with error handling\n",
    "    if total_ESG != '[]':\n",
    "        total_ESG = int(re.search('data-reactid=\"20\">(.+?)</div>', total_ESG).group(1))\n",
    "    else:\n",
    "        total_ESG = None\n",
    "\n",
    "    return total_ESG\n",
    "\n",
    "#Testing\n",
    "#print(ticker_ESG('STT'))\n",
    "\n",
    "\n",
    "#Calculate average ESG of all companies mentioned\n",
    "\n",
    "def ESG_avg_function(dictionary):\n",
    "    \"\"\"\n",
    "    Input: dictionary with tickers as keys and number of mentions as values\n",
    "    Output: average ESG score, weighted according to the number of mentions\n",
    "    \"\"\"\n",
    "    #Numerator = sum(ESG-score * number of mentions)\n",
    "    #The sum is over all companies which have an ESG score\\\n",
    "    \n",
    "    numerator = 0\n",
    "    total_mentions = 0 \n",
    "    \n",
    "    keys_list = list(dictionary)\n",
    "    \n",
    "    for i in range(len(keys_list)):\n",
    "        ESG_score = ticker_ESG(keys_list[i])\n",
    "        if not ESG_score == None:\n",
    "            numerator += ESG_score * dictionary[keys_list[i]]\n",
    "            total_mentions += dictionary[keys_list[i]]\n",
    "        \n",
    "    ESG_avg = numerator/total_mentions\n",
    "    \n",
    "    return ESG_avg\n",
    "    \n",
    "    "
   ]
  },
  {
   "cell_type": "markdown",
   "metadata": {},
   "source": [
    "Main function:"
   ]
  },
  {
   "cell_type": "code",
   "execution_count": 143,
   "metadata": {},
   "outputs": [],
   "source": [
    "def twitter_scrape(handle, num_tweet):\n",
    "    \"\"\"\n",
    "    Input:  1) handle: Twitter handle of a person without '@' (e.g. JoeBiden)\n",
    "            2) num_tweet: The number of past tweets the analysis will be based on (e.g. 100)\n",
    "    \n",
    "    Outputs: 1) most_tweeted_company: The company this person has tweeted most times\n",
    "             2) ESG_most_tweeted_company: The ESG score of the company mentioned above\n",
    "             3) avg_esg: The average ESG score by all company this person has mentioned \n",
    "               (weighted by number of mentions)\n",
    "    \"\"\"\n",
    "    df = pd.DataFrame(itertools.islice(sntwitter.TwitterSearchScraper('from: '+handle).get_items(), num_tweet))\n",
    "    \n",
    "    #gathers list of all tickers mentioned in all tweets\n",
    "    tickers_list = []\n",
    "    for i in range(len(df)):\n",
    "        tickers_list += tickers_in_tweet(df['content'][i])\n",
    "    \n",
    "    #Create dict containing all companies mentioned (key), and the frequency (value)\n",
    "    ticker_dict = {}\n",
    "    for i in range(len(tickers_list)):\n",
    "        try: \n",
    "            ticker_dict[tickers_list[i]]+=1\n",
    "        except KeyError:\n",
    "            ticker_dict[tickers_list[i]] = 1\n",
    "    \n",
    "    max_key = max(ticker_dict, key=ticker_dict.get)\n",
    "    most_tweeted_company = max_key\n",
    "    number_of_mentions = ticker_dict[most_tweeted_company]\n",
    "    \n",
    "    #ESG_most_tweeted_company = ticker_ESG(most_tweeted_company)\n",
    "    \n",
    "    #ESG_avg = ESG_avg_function(ticker_dict)\n",
    "    \n",
    "    return ticker_dict#most_tweeted_company, number_of_mentions, ESG_most_tweeted_company, ESG_avg\n",
    "    \n",
    "    \n",
    "    \n",
    "    \n",
    "    \n",
    "    \n",
    "    "
   ]
  },
  {
   "cell_type": "code",
   "execution_count": 153,
   "metadata": {},
   "outputs": [],
   "source": [
    "mydict = twitter_scrape('Investor666',50)"
   ]
  },
  {
   "cell_type": "code",
   "execution_count": 154,
   "metadata": {
    "scrolled": true
   },
   "outputs": [
    {
     "data": {
      "text/plain": [
       "{'DECN': 1,\n",
       " 'EYEG': 2,\n",
       " 'ASLN': 2,\n",
       " 'SSI': 2,\n",
       " 'NXGB': 2,\n",
       " 'WKHS': 2,\n",
       " 'SIMH': 1,\n",
       " 'HART': 1,\n",
       " 'ATV': 1,\n",
       " 'BDSI': 2,\n",
       " 'ENDO': 1,\n",
       " 'PTBI': 1,\n",
       " 'SYN': 1}"
      ]
     },
     "execution_count": 154,
     "metadata": {},
     "output_type": "execute_result"
    }
   ],
   "source": [
    "mydict"
   ]
  },
  {
   "cell_type": "code",
   "execution_count": 155,
   "metadata": {},
   "outputs": [],
   "source": [
    "ticker_ESG('decn')"
   ]
  },
  {
   "cell_type": "code",
   "execution_count": null,
   "metadata": {},
   "outputs": [],
   "source": [
    "#WarlusTrades\n",
    "#MadsC007"
   ]
  },
  {
   "cell_type": "code",
   "execution_count": 95,
   "metadata": {},
   "outputs": [
    {
     "data": {
      "text/plain": [
       "['APT', 'AFRM', 'PYPL', 'MELI', 'APT', 'AFRM', 'PYPL', 'MELI']"
      ]
     },
     "execution_count": 95,
     "metadata": {},
     "output_type": "execute_result"
    }
   ],
   "source": [
    "tickers_in_tweet(test)+tickers_in_tweet(test)"
   ]
  },
  {
   "cell_type": "code",
   "execution_count": 71,
   "metadata": {},
   "outputs": [
    {
     "data": {
      "text/plain": [
       "{'hats': 4}"
      ]
     },
     "execution_count": 71,
     "metadata": {},
     "output_type": "execute_result"
    }
   ],
   "source": [
    "my_dict"
   ]
  },
  {
   "cell_type": "code",
   "execution_count": 74,
   "metadata": {},
   "outputs": [],
   "source": [
    "my_dict['hats'] +=1"
   ]
  },
  {
   "cell_type": "code",
   "execution_count": 76,
   "metadata": {},
   "outputs": [
    {
     "ename": "KeyError",
     "evalue": "'hat'",
     "output_type": "error",
     "traceback": [
      "\u001b[0;31m---------------------------------------------------------------------------\u001b[0m",
      "\u001b[0;31mKeyError\u001b[0m                                  Traceback (most recent call last)",
      "\u001b[0;32m<ipython-input-76-ccefba837c4b>\u001b[0m in \u001b[0;36m<module>\u001b[0;34m\u001b[0m\n\u001b[0;32m----> 1\u001b[0;31m \u001b[0mmy_dict\u001b[0m\u001b[0;34m[\u001b[0m\u001b[0;34m'hat'\u001b[0m\u001b[0;34m]\u001b[0m\u001b[0;34m\u001b[0m\u001b[0;34m\u001b[0m\u001b[0m\n\u001b[0m",
      "\u001b[0;31mKeyError\u001b[0m: 'hat'"
     ]
    }
   ],
   "source": [
    "my_dict['hat']"
   ]
  },
  {
   "cell_type": "code",
   "execution_count": 130,
   "metadata": {},
   "outputs": [],
   "source": [
    "df = pd.DataFrame(itertools.islice(sntwitter.TwitterSearchScraper('from: Investor666').get_items(), 50))"
   ]
  },
  {
   "cell_type": "code",
   "execution_count": 133,
   "metadata": {},
   "outputs": [
    {
     "data": {
      "text/plain": [
       "'$WKHS News Article - Workhorse Secures $41 Million Financing from Institutional Lender https://t.co/TAvxOq7XEr\\n\\n#AdviceForDonaldTrump @Gambiste1 @Investor666 @dailypoliticaln $EYEG $ASLN $SSI $NXGB'"
      ]
     },
     "execution_count": 133,
     "metadata": {},
     "output_type": "execute_result"
    }
   ],
   "source": [
    "df['content'][12]"
   ]
  },
  {
   "cell_type": "code",
   "execution_count": null,
   "metadata": {},
   "outputs": [],
   "source": []
  },
  {
   "cell_type": "code",
   "execution_count": 57,
   "metadata": {},
   "outputs": [
    {
     "data": {
      "text/plain": [
       "['APT', 'AFRM', 'PYPL', 'MELI']"
      ]
     },
     "execution_count": 57,
     "metadata": {},
     "output_type": "execute_result"
    }
   ],
   "source": [
    "tickers_in_tweet(df['content'][16])"
   ]
  },
  {
   "cell_type": "code",
   "execution_count": 25,
   "metadata": {},
   "outputs": [
    {
     "data": {
      "text/plain": [
       "False"
      ]
     },
     "execution_count": 25,
     "metadata": {},
     "output_type": "execute_result"
    }
   ],
   "source": [
    "' '.islower() or ' '.isupper()"
   ]
  },
  {
   "cell_type": "code",
   "execution_count": 6,
   "metadata": {},
   "outputs": [
    {
     "data": {
      "text/plain": [
       "[]"
      ]
     },
     "execution_count": 6,
     "metadata": {},
     "output_type": "execute_result"
    }
   ],
   "source": [
    "tickers_in_tweet('hellp')"
   ]
  },
  {
   "cell_type": "code",
   "execution_count": null,
   "metadata": {},
   "outputs": [],
   "source": [
    "tickers_list = []\n",
    "    for i in range(len(df)):\n",
    "        tickers_list += tickers_in_tweet(df['content'][i])"
   ]
  },
  {
   "cell_type": "code",
   "execution_count": 96,
   "metadata": {},
   "outputs": [],
   "source": [
    "a = ticker_ESG('TSLAa')"
   ]
  },
  {
   "cell_type": "code",
   "execution_count": 99,
   "metadata": {},
   "outputs": [
    {
     "data": {
      "text/plain": [
       "NoneType"
      ]
     },
     "execution_count": 99,
     "metadata": {},
     "output_type": "execute_result"
    }
   ],
   "source": [
    "type(a)"
   ]
  },
  {
   "cell_type": "code",
   "execution_count": 101,
   "metadata": {},
   "outputs": [
    {
     "data": {
      "text/plain": [
       "True"
      ]
     },
     "execution_count": 101,
     "metadata": {},
     "output_type": "execute_result"
    }
   ],
   "source": [
    "a == None"
   ]
  },
  {
   "cell_type": "code",
   "execution_count": null,
   "metadata": {},
   "outputs": [],
   "source": []
  }
 ],
 "metadata": {
  "kernelspec": {
   "display_name": "Python 3",
   "language": "python",
   "name": "python3"
  },
  "language_info": {
   "codemirror_mode": {
    "name": "ipython",
    "version": 3
   },
   "file_extension": ".py",
   "mimetype": "text/x-python",
   "name": "python",
   "nbconvert_exporter": "python",
   "pygments_lexer": "ipython3",
   "version": "3.8.5"
  }
 },
 "nbformat": 4,
 "nbformat_minor": 4
}
