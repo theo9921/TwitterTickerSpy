{
 "cells": [
  {
   "cell_type": "code",
   "execution_count": 1,
   "metadata": {},
   "outputs": [],
   "source": [
    "import pandas as pd\n",
    "import snscrape.modules.twitter as sntwitter\n",
    "import itertools\n",
    "import numpy as np"
   ]
  },
  {
   "cell_type": "code",
   "execution_count": 3,
   "metadata": {},
   "outputs": [],
   "source": [
    "def scrape_to_txt(search_arg, num_items, label, count):\n",
    "    \n",
    "    # Scrape tweets into a dataframe\n",
    "    scraped_df = pd.DataFrame(itertools.islice(sntwitter.TwitterSearchScraper(search_arg).get_items(), num_items))\n",
    "    \n",
    "    # Send to correct folder\n",
    "    if label is True:\n",
    "        file_path = \"./stock_tweets/y_\"\n",
    "    elif label is False:\n",
    "        file_path = \"./non_stock_tweets/n_\"\n",
    "    \n",
    "    # Print to .txt file\n",
    "    for index, tweet in enumerate(scraped_df['content']):\n",
    "        with open(file_path+str(index+count)+\".txt\", \"w\", encoding=\"utf-8\") as text_file:\n",
    "            print(tweet, file=text_file)"
   ]
  },
  {
   "cell_type": "code",
   "execution_count": 4,
   "metadata": {},
   "outputs": [],
   "source": [
    "sp500_list = pd.read_csv('sp500_constituents.csv')\n",
    "sp500_list = sp500_list['ticker'].to_list()"
   ]
  },
  {
   "cell_type": "code",
   "execution_count": null,
   "metadata": {},
   "outputs": [],
   "source": [
    "counter = 0\n",
    "for ticker in sp500_list:\n",
    "    scrape_to_txt('$'+str(ticker), 20, True, counter)\n",
    "    counter+=20"
   ]
  },
  {
   "cell_type": "code",
   "execution_count": 13,
   "metadata": {},
   "outputs": [],
   "source": [
    "scrape_to_txt('from:ZorTrades', 100, True, 901)"
   ]
  },
  {
   "cell_type": "code",
   "execution_count": 62,
   "metadata": {},
   "outputs": [],
   "source": [
    "non_stock_list = ['trees', 'lemons', 'police', 'mayor', 'European', 'British', 'fish', 'nobel', 'crime', 'learning', 'schools']"
   ]
  },
  {
   "cell_type": "code",
   "execution_count": 65,
   "metadata": {},
   "outputs": [],
   "source": [
    "counter = 0\n",
    "for topic in tqdm(non_stock_list):\n",
    "    scrape_to_txt(str(topic), 100, False, counter)\n",
    "    counter+=100"
   ]
  },
  {
   "cell_type": "code",
   "execution_count": 21,
   "metadata": {},
   "outputs": [],
   "source": [
    "scrape_to_txt('baseball', 100, False, 901)"
   ]
  },
  {
   "cell_type": "markdown",
   "metadata": {},
   "source": [
    "## Misc."
   ]
  },
  {
   "cell_type": "code",
   "execution_count": 9,
   "metadata": {},
   "outputs": [
    {
     "data": {
      "text/html": [
       "<div>\n",
       "<style scoped>\n",
       "    .dataframe tbody tr th:only-of-type {\n",
       "        vertical-align: middle;\n",
       "    }\n",
       "\n",
       "    .dataframe tbody tr th {\n",
       "        vertical-align: top;\n",
       "    }\n",
       "\n",
       "    .dataframe thead th {\n",
       "        text-align: right;\n",
       "    }\n",
       "</style>\n",
       "<table border=\"1\" class=\"dataframe\">\n",
       "  <thead>\n",
       "    <tr style=\"text-align: right;\">\n",
       "      <th></th>\n",
       "      <th>url</th>\n",
       "      <th>date</th>\n",
       "      <th>content</th>\n",
       "      <th>id</th>\n",
       "      <th>username</th>\n",
       "      <th>outlinks</th>\n",
       "      <th>outlinksss</th>\n",
       "      <th>tcooutlinks</th>\n",
       "      <th>tcooutlinksss</th>\n",
       "    </tr>\n",
       "  </thead>\n",
       "  <tbody>\n",
       "    <tr>\n",
       "      <th>0</th>\n",
       "      <td>https://twitter.com/DugongBughaw777/status/135...</td>\n",
       "      <td>2021-01-24 14:54:47+00:00</td>\n",
       "      <td>Last time $TSLA had a 2 week inside bar last A...</td>\n",
       "      <td>1353355572461117442</td>\n",
       "      <td>DugongBughaw777</td>\n",
       "      <td>[]</td>\n",
       "      <td></td>\n",
       "      <td>[]</td>\n",
       "      <td></td>\n",
       "    </tr>\n",
       "    <tr>\n",
       "      <th>11</th>\n",
       "      <td>https://twitter.com/HeartDocTesla/status/13533...</td>\n",
       "      <td>2021-01-24 14:50:38+00:00</td>\n",
       "      <td>I’ve heard the name Tessa. \\n\\nBut has anyone ...</td>\n",
       "      <td>1353354527232184322</td>\n",
       "      <td>HeartDocTesla</td>\n",
       "      <td>[]</td>\n",
       "      <td></td>\n",
       "      <td>[]</td>\n",
       "      <td></td>\n",
       "    </tr>\n",
       "    <tr>\n",
       "      <th>12</th>\n",
       "      <td>https://twitter.com/ContrarianShort/status/135...</td>\n",
       "      <td>2021-01-24 14:50:10+00:00</td>\n",
       "      <td>@StanphylCap Probably had talks with incoming ...</td>\n",
       "      <td>1353354413600075792</td>\n",
       "      <td>ContrarianShort</td>\n",
       "      <td>[]</td>\n",
       "      <td></td>\n",
       "      <td>[]</td>\n",
       "      <td></td>\n",
       "    </tr>\n",
       "    <tr>\n",
       "      <th>19</th>\n",
       "      <td>https://twitter.com/BaysideInvestor/status/135...</td>\n",
       "      <td>2021-01-24 14:48:22+00:00</td>\n",
       "      <td>1/25の週　#米国株 \\n決算\\n1/25 $KMB $XLNX $BOOT \\n1/26...</td>\n",
       "      <td>1353353960707428352</td>\n",
       "      <td>BaysideInvestor</td>\n",
       "      <td>[]</td>\n",
       "      <td></td>\n",
       "      <td>[]</td>\n",
       "      <td></td>\n",
       "    </tr>\n",
       "  </tbody>\n",
       "</table>\n",
       "</div>"
      ],
      "text/plain": [
       "                                                  url  \\\n",
       "0   https://twitter.com/DugongBughaw777/status/135...   \n",
       "11  https://twitter.com/HeartDocTesla/status/13533...   \n",
       "12  https://twitter.com/ContrarianShort/status/135...   \n",
       "19  https://twitter.com/BaysideInvestor/status/135...   \n",
       "\n",
       "                        date  \\\n",
       "0  2021-01-24 14:54:47+00:00   \n",
       "11 2021-01-24 14:50:38+00:00   \n",
       "12 2021-01-24 14:50:10+00:00   \n",
       "19 2021-01-24 14:48:22+00:00   \n",
       "\n",
       "                                              content                   id  \\\n",
       "0   Last time $TSLA had a 2 week inside bar last A...  1353355572461117442   \n",
       "11  I’ve heard the name Tessa. \\n\\nBut has anyone ...  1353354527232184322   \n",
       "12  @StanphylCap Probably had talks with incoming ...  1353354413600075792   \n",
       "19  1/25の週　#米国株 \\n決算\\n1/25 $KMB $XLNX $BOOT \\n1/26...  1353353960707428352   \n",
       "\n",
       "           username outlinks outlinksss tcooutlinks tcooutlinksss  \n",
       "0   DugongBughaw777       []                     []                \n",
       "11    HeartDocTesla       []                     []                \n",
       "12  ContrarianShort       []                     []                \n",
       "19  BaysideInvestor       []                     []                "
      ]
     },
     "execution_count": 9,
     "metadata": {},
     "output_type": "execute_result"
    }
   ],
   "source": [
    "# https://github.com/igorbrigadir/twitter-advanced-search\n",
    "stockmarket_df = pd.DataFrame(itertools.islice(sntwitter.TwitterSearchScraper('$TSLA').get_items(), 20))\n",
    "test = [0, 11, 12, 19]\n",
    "stockmarket_df.iloc[test]"
   ]
  },
  {
   "cell_type": "code",
   "execution_count": 3,
   "metadata": {},
   "outputs": [],
   "source": [
    "for item in stockmarket_df['content']:\n",
    "    with open(\"test.txt\", \"w\", encoding=\"utf-8\") as text_file:\n",
    "        print(item, file=text_file)"
   ]
  },
  {
   "cell_type": "code",
   "execution_count": null,
   "metadata": {},
   "outputs": [],
   "source": []
  }
 ],
 "metadata": {
  "kernelspec": {
   "display_name": "Python 3",
   "language": "python",
   "name": "python3"
  },
  "language_info": {
   "codemirror_mode": {
    "name": "ipython",
    "version": 3
   },
   "file_extension": ".py",
   "mimetype": "text/x-python",
   "name": "python",
   "nbconvert_exporter": "python",
   "pygments_lexer": "ipython3",
   "version": "3.8.5"
  }
 },
 "nbformat": 4,
 "nbformat_minor": 1
}
