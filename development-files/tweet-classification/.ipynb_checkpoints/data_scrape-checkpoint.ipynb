{
 "cells": [
  {
   "cell_type": "code",
   "execution_count": 59,
   "metadata": {},
   "outputs": [],
   "source": [
    "import pandas as pd\n",
    "import snscrape.modules.twitter as sntwitter\n",
    "import itertools\n",
    "import numpy as np"
   ]
  },
  {
   "cell_type": "code",
   "execution_count": 63,
   "metadata": {},
   "outputs": [],
   "source": [
    "def scrape_to_txt(search_arg, num_items, label, count):\n",
    "    \n",
    "    # Scrape tweets into a dataframe\n",
    "    scraped_df = pd.DataFrame(itertools.islice(sntwitter.TwitterSearchScraper(search_arg).get_items(), num_items))\n",
    "    \n",
    "    # Send to correct folder\n",
    "    if label is True:\n",
    "        file_path = \"./stock_tweets/y_\"\n",
    "    elif label is False:\n",
    "        file_path = \"./non_stock_tweets/n_\"\n",
    "    \n",
    "    # Print to .txt file\n",
    "    for index, tweet in enumerate(scraped_df['content']):\n",
    "        with open(file_path+str(index+count)+\".txt\", \"w\", encoding=\"utf-8\") as text_file:\n",
    "            print(tweet, file=text_file)"
   ]
  },
  {
   "cell_type": "code",
   "execution_count": 61,
   "metadata": {},
   "outputs": [],
   "source": [
    "sp500_list = pd.read_csv('sp500_constituents.csv')\n",
    "sp500_list = sp500_list['ticker'].to_list()"
   ]
  },
  {
   "cell_type": "code",
   "execution_count": null,
   "metadata": {},
   "outputs": [],
   "source": [
    "counter = 0\n",
    "for ticker in sp500_list:\n",
    "    scrape_to_txt('$'+str(ticker), 20, True, counter)\n",
    "    counter+=20"
   ]
  },
  {
   "cell_type": "code",
   "execution_count": 62,
   "metadata": {},
   "outputs": [],
   "source": [
    "non_stock_list = ['trees', 'lemons', 'police', 'mayor', 'European', 'British', 'fish', 'nobel', 'crime', 'learning', 'schools']"
   ]
  },
  {
   "cell_type": "code",
   "execution_count": 65,
   "metadata": {},
   "outputs": [],
   "source": [
    "counter = 0\n",
    "for topic in tqdm(non_stock_list):\n",
    "    scrape_to_txt(str(topic), 100, False, counter)\n",
    "    counter+=100"
   ]
  },
  {
   "cell_type": "markdown",
   "metadata": {},
   "source": [
    "## Misc."
   ]
  },
  {
   "cell_type": "code",
   "execution_count": null,
   "metadata": {},
   "outputs": [],
   "source": [
    "# https://github.com/igorbrigadir/twitter-advanced-search\n",
    "stockmarket_df = pd.DataFrame(itertools.islice(sntwitter.TwitterSearchScraper('$TSLA').get_items(), 20))\n",
    "stockmarket_df"
   ]
  },
  {
   "cell_type": "code",
   "execution_count": null,
   "metadata": {},
   "outputs": [],
   "source": [
    "for item in stockmarket_df['content']:\n",
    "    with open(\"test.txt\", \"w\", encoding=\"utf-8\") as text_file:\n",
    "        print(item, file=text_file)"
   ]
  },
  {
   "cell_type": "code",
   "execution_count": null,
   "metadata": {},
   "outputs": [],
   "source": []
  }
 ],
 "metadata": {
  "kernelspec": {
   "display_name": "Python 3",
   "language": "python",
   "name": "python3"
  },
  "language_info": {
   "codemirror_mode": {
    "name": "ipython",
    "version": 3
   },
   "file_extension": ".py",
   "mimetype": "text/x-python",
   "name": "python",
   "nbconvert_exporter": "python",
   "pygments_lexer": "ipython3",
   "version": "3.8.5"
  }
 },
 "nbformat": 4,
 "nbformat_minor": 1
}
