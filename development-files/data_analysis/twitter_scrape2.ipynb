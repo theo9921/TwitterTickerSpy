{
 "cells": [
  {
   "cell_type": "code",
   "execution_count": 1,
   "metadata": {
    "scrolled": true
   },
   "outputs": [
    {
     "name": "stdout",
     "output_type": "stream",
     "text": [
      "Requirement already satisfied: snscrape in /Users/dsw46/opt/anaconda3/lib/python3.7/site-packages (0.3.4)\n",
      "Requirement already satisfied: requests[socks] in /Users/dsw46/opt/anaconda3/lib/python3.7/site-packages (from snscrape) (2.24.0)\n",
      "Requirement already satisfied: lxml in /Users/dsw46/opt/anaconda3/lib/python3.7/site-packages (from snscrape) (4.5.2)\n",
      "Requirement already satisfied: beautifulsoup4 in /Users/dsw46/opt/anaconda3/lib/python3.7/site-packages (from snscrape) (4.9.1)\n",
      "Requirement already satisfied: certifi>=2017.4.17 in /Users/dsw46/opt/anaconda3/lib/python3.7/site-packages (from requests[socks]->snscrape) (2020.12.5)\n",
      "Requirement already satisfied: urllib3!=1.25.0,!=1.25.1,<1.26,>=1.21.1 in /Users/dsw46/opt/anaconda3/lib/python3.7/site-packages (from requests[socks]->snscrape) (1.25.10)\n",
      "Requirement already satisfied: chardet<4,>=3.0.2 in /Users/dsw46/opt/anaconda3/lib/python3.7/site-packages (from requests[socks]->snscrape) (3.0.4)\n",
      "Requirement already satisfied: idna<3,>=2.5 in /Users/dsw46/opt/anaconda3/lib/python3.7/site-packages (from requests[socks]->snscrape) (2.10)\n",
      "Requirement already satisfied: PySocks!=1.5.7,>=1.5.6; extra == \"socks\" in /Users/dsw46/opt/anaconda3/lib/python3.7/site-packages (from requests[socks]->snscrape) (1.7.1)\n",
      "Requirement already satisfied: soupsieve>1.2 in /Users/dsw46/opt/anaconda3/lib/python3.7/site-packages (from beautifulsoup4->snscrape) (2.0.1)\n",
      "Note: you may need to restart the kernel to use updated packages.\n"
     ]
    }
   ],
   "source": [
    "pip install snscrape"
   ]
  },
  {
   "cell_type": "code",
   "execution_count": 3,
   "metadata": {
    "scrolled": true
   },
   "outputs": [
    {
     "name": "stdout",
     "output_type": "stream",
     "text": [
      "Collecting yfinance\n",
      "  Using cached yfinance-0.1.55.tar.gz (23 kB)\n",
      "Requirement already satisfied: pandas>=0.24 in /Users/dsw46/opt/anaconda3/lib/python3.7/site-packages (from yfinance) (1.1.1)\n",
      "Requirement already satisfied: numpy>=1.15 in /Users/dsw46/opt/anaconda3/lib/python3.7/site-packages (from yfinance) (1.18.0)\n",
      "Requirement already satisfied: requests>=2.20 in /Users/dsw46/opt/anaconda3/lib/python3.7/site-packages (from yfinance) (2.24.0)\n",
      "Collecting multitasking>=0.0.7\n",
      "  Using cached multitasking-0.0.9.tar.gz (8.1 kB)\n",
      "Requirement already satisfied: lxml>=4.5.1 in /Users/dsw46/opt/anaconda3/lib/python3.7/site-packages (from yfinance) (4.5.2)\n",
      "Requirement already satisfied: python-dateutil>=2.7.3 in /Users/dsw46/opt/anaconda3/lib/python3.7/site-packages (from pandas>=0.24->yfinance) (2.8.1)\n",
      "Requirement already satisfied: pytz>=2017.2 in /Users/dsw46/opt/anaconda3/lib/python3.7/site-packages (from pandas>=0.24->yfinance) (2020.1)\n",
      "Requirement already satisfied: chardet<4,>=3.0.2 in /Users/dsw46/opt/anaconda3/lib/python3.7/site-packages (from requests>=2.20->yfinance) (3.0.4)\n",
      "Requirement already satisfied: urllib3!=1.25.0,!=1.25.1,<1.26,>=1.21.1 in /Users/dsw46/opt/anaconda3/lib/python3.7/site-packages (from requests>=2.20->yfinance) (1.25.10)\n",
      "Requirement already satisfied: idna<3,>=2.5 in /Users/dsw46/opt/anaconda3/lib/python3.7/site-packages (from requests>=2.20->yfinance) (2.10)\n",
      "Requirement already satisfied: certifi>=2017.4.17 in /Users/dsw46/opt/anaconda3/lib/python3.7/site-packages (from requests>=2.20->yfinance) (2020.12.5)\n",
      "Requirement already satisfied: six>=1.5 in /Users/dsw46/opt/anaconda3/lib/python3.7/site-packages (from python-dateutil>=2.7.3->pandas>=0.24->yfinance) (1.15.0)\n",
      "Building wheels for collected packages: yfinance, multitasking\n",
      "  Building wheel for yfinance (setup.py) ... \u001b[?25ldone\n",
      "\u001b[?25h  Created wheel for yfinance: filename=yfinance-0.1.55-py2.py3-none-any.whl size=22618 sha256=d7f772c5e731e9fef79d90c0ffc4cc71af357cd8e33795fc52324d55458a5f16\n",
      "  Stored in directory: /Users/dsw46/Library/Caches/pip/wheels/aa/8a/36/59ed4f6fbcb6100967618eeb0696046bf9777a41ac2ff1f9b9\n",
      "  Building wheel for multitasking (setup.py) ... \u001b[?25ldone\n",
      "\u001b[?25h  Created wheel for multitasking: filename=multitasking-0.0.9-py3-none-any.whl size=8367 sha256=722989bb5ab621ff7a432e92730fde5f5ca892f6ddec29754035ee101fc68bab\n",
      "  Stored in directory: /Users/dsw46/Library/Caches/pip/wheels/ae/25/47/4d68431a7ec1b6c4b5233365934b74c1d4e665bf5f968d363a\n",
      "Successfully built yfinance multitasking\n",
      "Installing collected packages: multitasking, yfinance\n",
      "Successfully installed multitasking-0.0.9 yfinance-0.1.55\n",
      "Note: you may need to restart the kernel to use updated packages.\n"
     ]
    }
   ],
   "source": [
    "pip install yfinance"
   ]
  },
  {
   "cell_type": "code",
   "execution_count": 10,
   "metadata": {},
   "outputs": [],
   "source": [
    "import pandas as pd\n",
    "import itertools\n",
    "import snscrape.modules.twitter as sntwitter\n",
    "import numpy as np\n",
    "import pandas as pd\n",
    "\n",
    "import requests\n",
    "from bs4 import BeautifulSoup\n",
    "import re\n",
    "import yfinance as yf\n",
    "import datetime"
   ]
  },
  {
   "cell_type": "code",
   "execution_count": 46,
   "metadata": {},
   "outputs": [],
   "source": [
    "df = pd.DataFrame(itertools.islice(sntwitter.TwitterSearchScraper('from: MadsC007').get_items(), 100))"
   ]
  },
  {
   "cell_type": "code",
   "execution_count": 37,
   "metadata": {},
   "outputs": [],
   "source": [
    "a = 'MadsC007'"
   ]
  },
  {
   "cell_type": "code",
   "execution_count": 38,
   "metadata": {},
   "outputs": [],
   "source": [
    "df = pd.DataFrame(itertools.islice(sntwitter.TwitterSearchScraper('from: '+a).get_items(),1000))"
   ]
  },
  {
   "cell_type": "code",
   "execution_count": null,
   "metadata": {},
   "outputs": [],
   "source": []
  },
  {
   "cell_type": "code",
   "execution_count": 41,
   "metadata": {},
   "outputs": [
    {
     "data": {
      "text/plain": [
       "Timestamp('2021-01-24 10:10:27+0000', tz='UTC')"
      ]
     },
     "execution_count": 41,
     "metadata": {},
     "output_type": "execute_result"
    }
   ],
   "source": [
    "df['date'][0]"
   ]
  },
  {
   "cell_type": "code",
   "execution_count": null,
   "metadata": {},
   "outputs": [],
   "source": []
  },
  {
   "cell_type": "code",
   "execution_count": 91,
   "metadata": {},
   "outputs": [],
   "source": [
    "test= df['content'][14]"
   ]
  },
  {
   "cell_type": "code",
   "execution_count": 92,
   "metadata": {},
   "outputs": [
    {
     "data": {
      "text/plain": [
       "'This illustrates the power of being an aggretor of demand and suply: \\n\\nShopee is making a fintech company like $APT.AX, Klarna and $AFRM without feeling the need to make updates to the market. $PYPL from EBay and MercadoPago on $MELI platform are simular examples https://t.co/xZDWztRF2x'"
      ]
     },
     "execution_count": 92,
     "metadata": {},
     "output_type": "execute_result"
    }
   ],
   "source": [
    "test"
   ]
  },
  {
   "cell_type": "code",
   "execution_count": 26,
   "metadata": {},
   "outputs": [
    {
     "ename": "NameError",
     "evalue": "name 'test' is not defined",
     "output_type": "error",
     "traceback": [
      "\u001b[0;31m---------------------------------------------------------------------------\u001b[0m",
      "\u001b[0;31mNameError\u001b[0m                                 Traceback (most recent call last)",
      "\u001b[0;32m<ipython-input-26-6e538784264a>\u001b[0m in \u001b[0;36m<module>\u001b[0;34m\u001b[0m\n\u001b[1;32m      2\u001b[0m \u001b[0;31m# a '$' and not followed by a capital letter.\u001b[0m\u001b[0;34m\u001b[0m\u001b[0;34m\u001b[0m\u001b[0;34m\u001b[0m\u001b[0m\n\u001b[1;32m      3\u001b[0m \u001b[0mpotential_ticker\u001b[0m \u001b[0;34m=\u001b[0m \u001b[0;34m[\u001b[0m\u001b[0;34m]\u001b[0m\u001b[0;34m\u001b[0m\u001b[0;34m\u001b[0m\u001b[0m\n\u001b[0;32m----> 4\u001b[0;31m \u001b[0;32mfor\u001b[0m \u001b[0mi\u001b[0m \u001b[0;32min\u001b[0m \u001b[0mrange\u001b[0m\u001b[0;34m(\u001b[0m\u001b[0mlen\u001b[0m\u001b[0;34m(\u001b[0m\u001b[0mtest\u001b[0m\u001b[0;34m)\u001b[0m\u001b[0;34m-\u001b[0m\u001b[0;36m3\u001b[0m\u001b[0;34m)\u001b[0m\u001b[0;34m:\u001b[0m\u001b[0;34m\u001b[0m\u001b[0;34m\u001b[0m\u001b[0m\n\u001b[0m\u001b[1;32m      5\u001b[0m     \u001b[0;32mif\u001b[0m \u001b[0mtest\u001b[0m\u001b[0;34m[\u001b[0m\u001b[0mi\u001b[0m\u001b[0;34m]\u001b[0m \u001b[0;34m==\u001b[0m \u001b[0;34m'$'\u001b[0m\u001b[0;34m:\u001b[0m\u001b[0;34m\u001b[0m\u001b[0;34m\u001b[0m\u001b[0m\n\u001b[1;32m      6\u001b[0m         \u001b[0;32mif\u001b[0m \u001b[0mtest\u001b[0m\u001b[0;34m[\u001b[0m\u001b[0mi\u001b[0m\u001b[0;34m+\u001b[0m\u001b[0;36m1\u001b[0m\u001b[0;34m]\u001b[0m\u001b[0;34m.\u001b[0m\u001b[0misalpha\u001b[0m\u001b[0;34m(\u001b[0m\u001b[0;34m)\u001b[0m\u001b[0;34m:\u001b[0m\u001b[0;34m\u001b[0m\u001b[0;34m\u001b[0m\u001b[0m\n",
      "\u001b[0;31mNameError\u001b[0m: name 'test' is not defined"
     ]
    }
   ],
   "source": [
    "#Should only return a potential ticker if there's 2, 3, or 4 capital letters preceeded by\n",
    "# a '$' and not followed by a capital letter.\n",
    "potential_ticker = []\n",
    "for i in range(len(test)-3):\n",
    "    if test[i] == '$':\n",
    "        if test[i+1].isalpha():\n",
    "            if test[i+2].isalpha():\n",
    "                if not test[i+3].isalpha():\n",
    "                    potential_ticker.append(test[i+1]+test[i+2])\n",
    "                if test[i+3].isalpha():\n",
    "                    if not test[i+4].isalpha():\n",
    "                        potential_ticker.append(test[i+1]+test[i+2]+test[i+3])\n",
    "                    if test[i+4].isalpha():\n",
    "                            potential_ticker.append(test[i+1]+test[i+2]+test[i+3]+test[i+4])"
   ]
  },
  {
   "cell_type": "code",
   "execution_count": 60,
   "metadata": {
    "scrolled": false
   },
   "outputs": [
    {
     "data": {
      "text/plain": [
       "['APT', 'AFRM', 'PYPL', 'MELI']"
      ]
     },
     "execution_count": 60,
     "metadata": {},
     "output_type": "execute_result"
    }
   ],
   "source": [
    "potential_ticker"
   ]
  },
  {
   "cell_type": "code",
   "execution_count": 47,
   "metadata": {},
   "outputs": [],
   "source": []
  },
  {
   "cell_type": "code",
   "execution_count": 48,
   "metadata": {},
   "outputs": [
    {
     "data": {
      "text/plain": [
       "31"
      ]
     },
     "execution_count": 48,
     "metadata": {},
     "output_type": "execute_result"
    }
   ],
   "source": [
    "ticker_ESG('TSLA')"
   ]
  },
  {
   "cell_type": "markdown",
   "metadata": {},
   "source": [
    "# Building an all-cointaining function which takes a twitter handle as input and outputs info about the companies this person mostly tweets about"
   ]
  },
  {
   "cell_type": "markdown",
   "metadata": {},
   "source": [
    "Dependent functions:"
   ]
  },
  {
   "cell_type": "code",
   "execution_count": 68,
   "metadata": {},
   "outputs": [],
   "source": [
    "def tickers_in_tweet(tweet):\n",
    "    \"\"\" Input: A single tweet as a string\n",
    "        \n",
    "        Output: A list of all the tickers mentioned\n",
    "        \n",
    "        Will return a ticker if there's 2, 3, or 4 capital \n",
    "        letters preceeded by a '$' and not followed by a capital letter.      \n",
    "        \n",
    "    \"\"\"\n",
    "\n",
    "\n",
    "    tickers = []\n",
    "    for i in range(len(tweet)-4):\n",
    "        if tweet[i] == '$':\n",
    "            if tweet[i+1].isalpha():\n",
    "                if tweet[i+2].isalpha():\n",
    "                    if not tweet[i+3].isalpha():\n",
    "                        tickers.append(tweet[i+1]+tweet[i+2])\n",
    "                    if tweet[i+3].isalpha():\n",
    "                        if not tweet[i+4].isalpha():\n",
    "                            tickers.append(tweet[i+1]+tweet[i+2]+tweet[i+3])\n",
    "                        if tweet[i+4].isalpha():\n",
    "                                tickers.append(tweet[i+1]+tweet[i+2]+tweet[i+3]+tweet[i+4])\n",
    "    return tickers\n",
    "\n",
    "#Web scraping for ESG\n",
    "\n",
    "def ticker_ESG(ticker):\n",
    "    \"\"\"This function accepts a ticker input and outputs its Total ESG Risk Score\"\"\"\n",
    "    #Generate URL\n",
    "    working_url = 'https://uk.finance.yahoo.com/quote/'+str(ticker).upper()+'/sustainability?p='+str(ticker).upper()\n",
    "    total_ESG = scrape_yahoo(working_url)\n",
    "    return total_ESG\n",
    "\n",
    "def scrape_yahoo(url):\n",
    "    \"\"\"This function checks and accepts a Yahoo finance URL and outputs the Total ESG Risk Score as an int \"\"\"\n",
    "\n",
    "    #GET page and convert content to bs4 soup\n",
    "    page = requests.get(url)\n",
    "    soup = BeautifulSoup(page.content, 'html.parser')\n",
    "\n",
    "\n",
    "    #Find class containing ESG risk score from 0-100, cast to string\n",
    "    total_ESG = str(soup.findAll('div', {\"class\": \"Fz(36px) Fw(600) D(ib) Mend(5px)\"}))\n",
    "\n",
    "    #Extract ESG score using regex, with error handling\n",
    "    if total_ESG != '[]':\n",
    "        total_ESG = int(re.search('data-reactid=\"20\">(.+?)</div>', total_ESG).group(1))\n",
    "    else:\n",
    "        total_ESG = None\n",
    "\n",
    "    return total_ESG\n",
    "\n",
    "#Testing\n",
    "#print(ticker_ESG('STT'))\n",
    "\n",
    "\n",
    "#Calculate average ESG of all companies mentioned\n",
    "\n",
    "def ESG_avg_function(dictionary):\n",
    "    \"\"\"\n",
    "    Input: dictionary with tickers as keys and number of mentions as values\n",
    "    Output: average ESG score, weighted according to the number of mentions\n",
    "    \"\"\"\n",
    "    #Numerator = sum(ESG-score * number of mentions)\n",
    "    #The sum is over all companies which have an ESG score\\\n",
    "    \n",
    "    numerator = 0\n",
    "    total_mentions = 0 \n",
    "    \n",
    "    keys_list = list(dictionary)\n",
    "    \n",
    "    for i in range(len(keys_list)):\n",
    "        ESG_score = ticker_ESG(keys_list[i])\n",
    "        if not ESG_score == None:\n",
    "            numerator += ESG_score * dictionary[keys_list[i]]\n",
    "            total_mentions += dictionary[keys_list[i]]\n",
    "        \n",
    "    ESG_avg = numerator/total_mentions\n",
    "    \n",
    "    return ESG_avg\n",
    "    \n",
    "\n",
    "#Stock price functions\n",
    "def stock_price_today(ticker):\n",
    "    \"\"\"\n",
    "    Input: ticker of a stock (as string)\n",
    "    Returns the stock price of that stock today\n",
    "    \"\"\"\n",
    "    now = datetime.datetime.now().strftime(\"%Y-%m-%d\")\n",
    "    stock = yf.Ticker(ticker)\n",
    "    price = data.history(start='2021-01-01',  end=now)\n",
    "    price_today = price['Close'][-1]\n",
    "    \n",
    "    return price_today\n",
    "\n",
    "def stock_price_at_date(ticker, date):\n",
    "    \"\"\"\n",
    "    Inputs: 1) ticker of a stock (as string)\n",
    "            2) Date you want the stock price for (format: 'YYYY-MM-DD')\n",
    "    Returns the stock price of that ticker for that day (or closest to)\n",
    "    \"\"\"\n",
    "    now = datetime.datetime.now().strftime(\"%Y-%m-%d\")\n",
    "    stock = yf.Ticker(ticker)\n",
    "    price = data.history(start=date,  end=now)\n",
    "    price_date = price['Close'][0]\n",
    "    \n",
    "    return price_date\n",
    "\n",
    "\n",
    "def stock_return_since_mention(ticker, date):\n",
    "    \"\"\"\n",
    "    Input:  Ticker\n",
    "            Date the stock was mentioned (format: 'YYYY-MM-DD')\n",
    "    Output: Stock return since it was mentioned\n",
    "    \"\"\"\n",
    "    price_today = stock_price_today(ticker)\n",
    "    price_date = stock_price_at_date(ticker, date)\n",
    "    \n",
    "    stock_return = (price_today-price_date)/price_date\n",
    "    return stock_return\n",
    "    "
   ]
  },
  {
   "cell_type": "markdown",
   "metadata": {},
   "source": [
    "Main function:"
   ]
  },
  {
   "cell_type": "code",
   "execution_count": 81,
   "metadata": {},
   "outputs": [],
   "source": [
    "def twitter_scrape(handle, num_tweet):\n",
    "    \"\"\"\n",
    "    Input:  1) handle: Twitter handle of a person without '@' (e.g. JoeBiden)\n",
    "            2) num_tweet: The number of past tweets the analysis will be based on (e.g. 100)\n",
    "    \n",
    "    Outputs: 1) most_tweeted_company: The company this person has tweeted most times\n",
    "             2) ESG_most_tweeted_company: The ESG score of the company mentioned above\n",
    "             3) avg_esg: The average ESG score by all company this person has mentioned \n",
    "               (weighted by number of mentions)\n",
    "    \"\"\"\n",
    "    df = pd.DataFrame(itertools.islice(sntwitter.TwitterSearchScraper('from: '+handle).get_items(), num_tweet))\n",
    "    date_df = df['date'].dt.date\n",
    "    sum_stock_return = 0\n",
    "    \n",
    "    #gathers list of all tickers mentioned in all tweets\n",
    "    tickers_list = []\n",
    "    for i in range(len(df)):\n",
    "        new_tickers = []\n",
    "        new_tickers = tickers_in_tweet(df['content'][i])\n",
    "        tickers_list += new_tickers\n",
    "        #If a tweet is added to the list calculate stock returns for this batch of stocks\n",
    "        if new_tickers != []:\n",
    "            date = str(date_df[i])\n",
    "            for j in range(len(new_tickers)):\n",
    "                ticker = new_tickers[j]\n",
    "                stock_return = stock_return_since_mention(ticker, date) \n",
    "                sum_stock_return += stock_return\n",
    "    \n",
    "    #Average stock return = sum(stock_return)/number of stock mentions\n",
    "    number_of_stock_mentions = len(tickers_list)\n",
    "    average_stock_return = sum_stock_return/number_of_stock_mentions\n",
    "    \n",
    "    #Create dict containing all companies mentioned (key), and the frequency (value)\n",
    "    ticker_dict = {}\n",
    "    for i in range(len(tickers_list)):\n",
    "        try: \n",
    "            ticker_dict[tickers_list[i]]+=1\n",
    "        except KeyError:\n",
    "            ticker_dict[tickers_list[i]] = 1\n",
    "    \n",
    "    max_key = max(ticker_dict, key=ticker_dict.get)\n",
    "    most_tweeted_company = max_key\n",
    "    number_of_mentions = ticker_dict[most_tweeted_company]\n",
    "    \n",
    "    ESG_most_tweeted_company = ticker_ESG(most_tweeted_company)\n",
    "    \n",
    "    try:\n",
    "        ESG_avg = ESG_avg_function(ticker_dict)\n",
    "    except ZeroDivisionError:\n",
    "        ESG_avg = 'This person has not tweeted about any ESG-rated companies!'\n",
    "    \n",
    "    return most_tweeted_company, number_of_mentions, ESG_most_tweeted_company,\\\n",
    "            ESG_avg, average_stock_return\n",
    "    \n",
    "    \n",
    "    \n",
    "    \n",
    "    \n",
    "    \n",
    "    "
   ]
  },
  {
   "cell_type": "code",
   "execution_count": 83,
   "metadata": {
    "scrolled": true
   },
   "outputs": [
    {
     "data": {
      "text/plain": [
       "('PLTR', 2, None, 21.333333333333332, 0.05445628339957298)"
      ]
     },
     "execution_count": 83,
     "metadata": {},
     "output_type": "execute_result"
    }
   ],
   "source": [
    "twitter_scrape('WarlusTrades',50)"
   ]
  },
  {
   "cell_type": "code",
   "execution_count": null,
   "metadata": {},
   "outputs": [],
   "source": [
    "#WarlusTrades\n",
    "#MadsC007"
   ]
  },
  {
   "cell_type": "markdown",
   "metadata": {},
   "source": [
    "#### Use yfinance package to get both historic and current stock price, to calculate return since it was mentioned"
   ]
  },
  {
   "cell_type": "code",
   "execution_count": 9,
   "metadata": {},
   "outputs": [],
   "source": [
    "msft = yf.Ticker(\"MSFT\")\n",
    "\n",
    "# get stock info\n",
    "#print(msft.info)\n",
    "\n",
    "# get historical market data\n",
    "#hist = msft.history(period=\"5d\")"
   ]
  },
  {
   "cell_type": "code",
   "execution_count": 29,
   "metadata": {},
   "outputs": [],
   "source": []
  },
  {
   "cell_type": "code",
   "execution_count": 31,
   "metadata": {},
   "outputs": [],
   "source": []
  },
  {
   "cell_type": "code",
   "execution_count": 34,
   "metadata": {},
   "outputs": [],
   "source": [
    "\n",
    "    "
   ]
  },
  {
   "cell_type": "code",
   "execution_count": 66,
   "metadata": {
    "scrolled": true
   },
   "outputs": [
    {
     "name": "stdout",
     "output_type": "stream",
     "text": [
      "- AAPL: No data found for this date range, symbol may be delisted\n"
     ]
    },
    {
     "ename": "IndexError",
     "evalue": "index 0 is out of bounds for axis 0 with size 0",
     "output_type": "error",
     "traceback": [
      "\u001b[0;31m---------------------------------------------------------------------------\u001b[0m",
      "\u001b[0;31mIndexError\u001b[0m                                Traceback (most recent call last)",
      "\u001b[0;32m<ipython-input-66-56347e5e3828>\u001b[0m in \u001b[0;36m<module>\u001b[0;34m\u001b[0m\n\u001b[0;32m----> 1\u001b[0;31m \u001b[0mstock_return_since_mention\u001b[0m\u001b[0;34m(\u001b[0m\u001b[0;34m'aapl'\u001b[0m\u001b[0;34m,\u001b[0m\u001b[0mstr\u001b[0m\u001b[0;34m(\u001b[0m\u001b[0mnew_df\u001b[0m\u001b[0;34m[\u001b[0m\u001b[0;36m0\u001b[0m\u001b[0;34m]\u001b[0m\u001b[0;34m)\u001b[0m\u001b[0;34m)\u001b[0m\u001b[0;34m\u001b[0m\u001b[0;34m\u001b[0m\u001b[0m\n\u001b[0m",
      "\u001b[0;32m<ipython-input-34-315f377abd1e>\u001b[0m in \u001b[0;36mstock_return_since_mention\u001b[0;34m(ticker, date)\u001b[0m\n\u001b[1;32m      6\u001b[0m     \"\"\"\n\u001b[1;32m      7\u001b[0m     \u001b[0mprice_today\u001b[0m \u001b[0;34m=\u001b[0m \u001b[0mstock_price_today\u001b[0m\u001b[0;34m(\u001b[0m\u001b[0mticker\u001b[0m\u001b[0;34m)\u001b[0m\u001b[0;34m\u001b[0m\u001b[0;34m\u001b[0m\u001b[0m\n\u001b[0;32m----> 8\u001b[0;31m     \u001b[0mprice_date\u001b[0m \u001b[0;34m=\u001b[0m \u001b[0mstock_price_at_date\u001b[0m\u001b[0;34m(\u001b[0m\u001b[0mticker\u001b[0m\u001b[0;34m,\u001b[0m \u001b[0mdate\u001b[0m\u001b[0;34m)\u001b[0m\u001b[0;34m\u001b[0m\u001b[0;34m\u001b[0m\u001b[0m\n\u001b[0m\u001b[1;32m      9\u001b[0m \u001b[0;34m\u001b[0m\u001b[0m\n\u001b[1;32m     10\u001b[0m     \u001b[0mstock_return\u001b[0m \u001b[0;34m=\u001b[0m \u001b[0;34m(\u001b[0m\u001b[0mprice_today\u001b[0m\u001b[0;34m-\u001b[0m\u001b[0mprice_date\u001b[0m\u001b[0;34m)\u001b[0m\u001b[0;34m/\u001b[0m\u001b[0mprice_date\u001b[0m\u001b[0;34m\u001b[0m\u001b[0;34m\u001b[0m\u001b[0m\n",
      "\u001b[0;32m<ipython-input-31-ef372aa4e93d>\u001b[0m in \u001b[0;36mstock_price_at_date\u001b[0;34m(ticker, date)\u001b[0m\n\u001b[1;32m      8\u001b[0m     \u001b[0mstock\u001b[0m \u001b[0;34m=\u001b[0m \u001b[0myf\u001b[0m\u001b[0;34m.\u001b[0m\u001b[0mTicker\u001b[0m\u001b[0;34m(\u001b[0m\u001b[0mticker\u001b[0m\u001b[0;34m)\u001b[0m\u001b[0;34m\u001b[0m\u001b[0;34m\u001b[0m\u001b[0m\n\u001b[1;32m      9\u001b[0m     \u001b[0mprice\u001b[0m \u001b[0;34m=\u001b[0m \u001b[0mdata\u001b[0m\u001b[0;34m.\u001b[0m\u001b[0mhistory\u001b[0m\u001b[0;34m(\u001b[0m\u001b[0mstart\u001b[0m\u001b[0;34m=\u001b[0m\u001b[0mdate\u001b[0m\u001b[0;34m,\u001b[0m  \u001b[0mend\u001b[0m\u001b[0;34m=\u001b[0m\u001b[0mnow\u001b[0m\u001b[0;34m)\u001b[0m\u001b[0;34m\u001b[0m\u001b[0;34m\u001b[0m\u001b[0m\n\u001b[0;32m---> 10\u001b[0;31m     \u001b[0mprice_date\u001b[0m \u001b[0;34m=\u001b[0m \u001b[0mprice\u001b[0m\u001b[0;34m[\u001b[0m\u001b[0;34m'Close'\u001b[0m\u001b[0;34m]\u001b[0m\u001b[0;34m[\u001b[0m\u001b[0;36m0\u001b[0m\u001b[0;34m]\u001b[0m\u001b[0;34m\u001b[0m\u001b[0;34m\u001b[0m\u001b[0m\n\u001b[0m\u001b[1;32m     11\u001b[0m \u001b[0;34m\u001b[0m\u001b[0m\n\u001b[1;32m     12\u001b[0m     \u001b[0;32mreturn\u001b[0m \u001b[0mprice_date\u001b[0m\u001b[0;34m\u001b[0m\u001b[0;34m\u001b[0m\u001b[0m\n",
      "\u001b[0;32m~/opt/anaconda3/lib/python3.7/site-packages/pandas/core/series.py\u001b[0m in \u001b[0;36m__getitem__\u001b[0;34m(self, key)\u001b[0m\n\u001b[1;32m    877\u001b[0m \u001b[0;34m\u001b[0m\u001b[0m\n\u001b[1;32m    878\u001b[0m         \u001b[0;32mif\u001b[0m \u001b[0mis_integer\u001b[0m\u001b[0;34m(\u001b[0m\u001b[0mkey\u001b[0m\u001b[0;34m)\u001b[0m \u001b[0;32mand\u001b[0m \u001b[0mself\u001b[0m\u001b[0;34m.\u001b[0m\u001b[0mindex\u001b[0m\u001b[0;34m.\u001b[0m\u001b[0m_should_fallback_to_positional\u001b[0m\u001b[0;34m(\u001b[0m\u001b[0;34m)\u001b[0m\u001b[0;34m:\u001b[0m\u001b[0;34m\u001b[0m\u001b[0;34m\u001b[0m\u001b[0m\n\u001b[0;32m--> 879\u001b[0;31m             \u001b[0;32mreturn\u001b[0m \u001b[0mself\u001b[0m\u001b[0;34m.\u001b[0m\u001b[0m_values\u001b[0m\u001b[0;34m[\u001b[0m\u001b[0mkey\u001b[0m\u001b[0;34m]\u001b[0m\u001b[0;34m\u001b[0m\u001b[0;34m\u001b[0m\u001b[0m\n\u001b[0m\u001b[1;32m    880\u001b[0m \u001b[0;34m\u001b[0m\u001b[0m\n\u001b[1;32m    881\u001b[0m         \u001b[0;32melif\u001b[0m \u001b[0mkey_is_scalar\u001b[0m\u001b[0;34m:\u001b[0m\u001b[0;34m\u001b[0m\u001b[0;34m\u001b[0m\u001b[0m\n",
      "\u001b[0;31mIndexError\u001b[0m: index 0 is out of bounds for axis 0 with size 0"
     ]
    }
   ],
   "source": [
    "stock_return_since_mention('aapl',str(new_df[0]))"
   ]
  },
  {
   "cell_type": "code",
   "execution_count": 55,
   "metadata": {},
   "outputs": [
    {
     "data": {
      "text/plain": [
       "Timestamp('2021-01-24 10:10:27+0000', tz='UTC')"
      ]
     },
     "execution_count": 55,
     "metadata": {},
     "output_type": "execute_result"
    }
   ],
   "source": [
    "df['date'][0]"
   ]
  },
  {
   "cell_type": "code",
   "execution_count": 58,
   "metadata": {},
   "outputs": [],
   "source": []
  },
  {
   "cell_type": "code",
   "execution_count": 64,
   "metadata": {},
   "outputs": [
    {
     "data": {
      "text/plain": [
       "'2021-01-24'"
      ]
     },
     "execution_count": 64,
     "metadata": {},
     "output_type": "execute_result"
    }
   ],
   "source": []
  },
  {
   "cell_type": "code",
   "execution_count": 78,
   "metadata": {},
   "outputs": [
    {
     "data": {
      "text/plain": [
       "False"
      ]
     },
     "execution_count": 78,
     "metadata": {},
     "output_type": "execute_result"
    }
   ],
   "source": [
    "tickers_in_tweet('hello') != []"
   ]
  },
  {
   "cell_type": "code",
   "execution_count": 79,
   "metadata": {},
   "outputs": [
    {
     "data": {
      "text/plain": [
       "['a', 'b', 'c', 'd']"
      ]
     },
     "execution_count": 79,
     "metadata": {},
     "output_type": "execute_result"
    }
   ],
   "source": [
    "['a', 'b'] + ['c', 'd']"
   ]
  },
  {
   "cell_type": "code",
   "execution_count": null,
   "metadata": {},
   "outputs": [],
   "source": []
  }
 ],
 "metadata": {
  "kernelspec": {
   "display_name": "Python 3",
   "language": "python",
   "name": "python3"
  },
  "language_info": {
   "codemirror_mode": {
    "name": "ipython",
    "version": 3
   },
   "file_extension": ".py",
   "mimetype": "text/x-python",
   "name": "python",
   "nbconvert_exporter": "python",
   "pygments_lexer": "ipython3",
   "version": "3.8.5"
  }
 },
 "nbformat": 4,
 "nbformat_minor": 4
}
